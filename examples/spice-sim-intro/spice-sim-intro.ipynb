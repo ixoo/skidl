{
 "cells": [
  {
   "cell_type": "markdown",
   "metadata": {
    "toc": true
   },
   "source": [
    "<h1>Table of Contents<span class=\"tocSkip\"></span></h1>\n",
    "<div class=\"toc\"><ul class=\"toc-item\"><li><span><a href=\"#Spicing-It-Up!-(Sorry)\" data-toc-modified-id=\"Spicing-It-Up!-(Sorry)-1\"><span class=\"toc-item-num\">1&nbsp;&nbsp;</span>Spicing It Up! (Sorry)</a></span><ul class=\"toc-item\"><li><span><a href=\"#Why?\" data-toc-modified-id=\"Why?-1.1\"><span class=\"toc-item-num\">1.1&nbsp;&nbsp;</span>Why?</a></span></li><li><span><a href=\"#Installation\" data-toc-modified-id=\"Installation-1.2\"><span class=\"toc-item-num\">1.2&nbsp;&nbsp;</span>Installation</a></span></li><li><span><a href=\"#Examples\" data-toc-modified-id=\"Examples-1.3\"><span class=\"toc-item-num\">1.3&nbsp;&nbsp;</span>Examples</a></span><ul class=\"toc-item\"><li><span><a href=\"#Current-Through-a-Resistor\" data-toc-modified-id=\"Current-Through-a-Resistor-1.3.1\"><span class=\"toc-item-num\">1.3.1&nbsp;&nbsp;</span>Current Through a Resistor</a></span></li><li><span><a href=\"#Transient-Response-of-an-R-C-Filter\" data-toc-modified-id=\"Transient-Response-of-an-R-C-Filter-1.3.2\"><span class=\"toc-item-num\">1.3.2&nbsp;&nbsp;</span>Transient Response of an R-C Filter</a></span></li><li><span><a href=\"#A-Voltage-Controlled-Voltage-Source\" data-toc-modified-id=\"A-Voltage-Controlled-Voltage-Source-1.3.3\"><span class=\"toc-item-num\">1.3.3&nbsp;&nbsp;</span>A Voltage-Controlled Voltage Source</a></span></li><li><span><a href=\"#A-Current-Controlled-Current-Source\" data-toc-modified-id=\"A-Current-Controlled-Current-Source-1.3.4\"><span class=\"toc-item-num\">1.3.4&nbsp;&nbsp;</span>A Current-Controlled Current Source</a></span></li><li><span><a href=\"#A-Transmission-Line\" data-toc-modified-id=\"A-Transmission-Line-1.3.5\"><span class=\"toc-item-num\">1.3.5&nbsp;&nbsp;</span>A Transmission Line</a></span></li><li><span><a href=\"#A-Transformer\" data-toc-modified-id=\"A-Transformer-1.3.6\"><span class=\"toc-item-num\">1.3.6&nbsp;&nbsp;</span>A Transformer</a></span></li><li><span><a href=\"#A-Transistor-Amplifier\" data-toc-modified-id=\"A-Transistor-Amplifier-1.3.7\"><span class=\"toc-item-num\">1.3.7&nbsp;&nbsp;</span>A Transistor Amplifier</a></span></li><li><span><a href=\"#XSPICE-Parts\" data-toc-modified-id=\"XSPICE-Parts-1.3.8\"><span class=\"toc-item-num\">1.3.8&nbsp;&nbsp;</span>XSPICE Parts</a></span></li><li><span><a href=\"#A-Hierarchical-Circuit\" data-toc-modified-id=\"A-Hierarchical-Circuit-1.3.9\"><span class=\"toc-item-num\">1.3.9&nbsp;&nbsp;</span>A Hierarchical Circuit</a></span></li><li><span><a href=\"#Using-SPICE-Subcircuits\" data-toc-modified-id=\"Using-SPICE-Subcircuits-1.3.10\"><span class=\"toc-item-num\">1.3.10&nbsp;&nbsp;</span>Using SPICE Subcircuits</a></span></li></ul></li><li><span><a href=\"#The-Details\" data-toc-modified-id=\"The-Details-1.4\"><span class=\"toc-item-num\">1.4&nbsp;&nbsp;</span>The Details</a></span><ul class=\"toc-item\"><li><span><a href=\"#Units\" data-toc-modified-id=\"Units-1.4.1\"><span class=\"toc-item-num\">1.4.1&nbsp;&nbsp;</span>Units</a></span></li><li><span><a href=\"#Available-Parts\" data-toc-modified-id=\"Available-Parts-1.4.2\"><span class=\"toc-item-num\">1.4.2&nbsp;&nbsp;</span>Available Parts</a></span></li><li><span><a href=\"#Startup\" data-toc-modified-id=\"Startup-1.4.3\"><span class=\"toc-item-num\">1.4.3&nbsp;&nbsp;</span>Startup</a></span></li><li><span><a href=\"#Miscellaneous\" data-toc-modified-id=\"Miscellaneous-1.4.4\"><span class=\"toc-item-num\">1.4.4&nbsp;&nbsp;</span>Miscellaneous</a></span></li></ul></li><li><span><a href=\"#Future-Work\" data-toc-modified-id=\"Future-Work-1.5\"><span class=\"toc-item-num\">1.5&nbsp;&nbsp;</span>Future Work</a></span></li><li><span><a href=\"#Acknowledgements\" data-toc-modified-id=\"Acknowledgements-1.6\"><span class=\"toc-item-num\">1.6&nbsp;&nbsp;</span>Acknowledgements</a></span></li></ul></li></ul></div>"
   ]
  },
  {
   "cell_type": "code",
   "execution_count": 1,
   "metadata": {
    "ExecuteTime": {
     "end_time": "2021-01-23T18:11:14.426974Z",
     "start_time": "2021-01-23T18:11:14.406843Z"
    }
   },
   "outputs": [
    {
     "data": {
      "text/html": [
       "<style>\n",
       "@import url('http://fonts.googleapis.com/css?family=Source+Code+Pro');\n",
       "@import url('http://fonts.googleapis.com/css?family=Lora');\n",
       "\n",
       "//@import url('http://fonts.googleapis.com/css?family=Open+Sans');\n",
       "//@import url('http://fonts.googleapis.com/css?family=Vollkorn');\n",
       "//@import url('http://fonts.googleapis.com/css?family=Karla');\n",
       "//@import url('http://fonts.googleapis.com/css?family=Poppins');\n",
       "//@import url('http://fonts.googleapis.com/css?family=Arimo');\n",
       "//@import url('http://fonts.googleapis.com/css?family=Roboto');\n",
       "//@import url('http://fonts.googleapis.com/css?family=Lato');\n",
       "//@import url('http://fonts.googleapis.com/css?family=Domine');\n",
       "//@import url('http://fonts.googleapis.com/css?family=Chivo');\n",
       "//@import url('http://fonts.googleapis.com/css?family=Cardo');\n",
       "//@import url('http://fonts.googleapis.com/css?family=Arvo');\n",
       "//@import url('http://fonts.googleapis.com/css?family=Crimson+Text');\n",
       "//@import url('http://fonts.googleapis.com/css?family=Ubuntu');\n",
       "//@import url('http://fonts.googleapis.com/css?family=Fontin');\n",
       "//@import url('http://fonts.googleapis.com/css?family=Raleway');\n",
       "//@import url('http://fonts.googleapis.com/css?family=Merriweather');\n",
       "\n",
       "\n",
       ".CodeMirror pre {\n",
       "    font-family: 'Source Code Pro', Consolas, monocco, monospace;\n",
       "}\n",
       "    div.cell{\n",
       "        //width: 950px;\n",
       "        margin-left: 0% !important;\n",
       "        margin-right: auto;\n",
       "    }\n",
       "    div.text_cell_render{\n",
       "        font-family: 'Lora';\n",
       "        //font-family: 'Open Sans';\n",
       "        //font-family: 'Karla',verdana,arial,sans-serif;\n",
       "        //font-family: 'Roboto',verdana,arial,sans-serif;\n",
       "        //font-family: 'Lato',verdana,arial,sans-serif;\n",
       "        //font-family: 'Domine',verdana,arial,sans-serif;\n",
       "        //font-family: 'Chivo',verdana,arial,sans-serif;\n",
       "        //font-family: 'Cardo',verdana,arial,sans-serif;\n",
       "        //font-family: 'Arvo',verdana,arial,sans-serif;\n",
       "        //font-family: 'Poppins',verdana,arial,sans-serif;\n",
       "        //font-family: 'Ubuntu',verdana,arial,sans-serif;\n",
       "        //font-family: 'Fontin',verdana,arial,sans-serif;\n",
       "        //font-family: 'Raleway',verdana,arial,sans-serif;\n",
       "        //font-family: 'Merriweather',verdana,arial,sans-serif;\n",
       "        //font-family: 'Crimson Text', verdana,arial,sans-serif;\n",
       "        //font-family: verdana,arial,sans-serif;\n",
       "        //font-family: arial,sans-serif;\n",
       "        line-height: 125%;\n",
       "        font-size: 130%;\n",
       "        text-align: justify;\n",
       "        text-justify:inter-word;\n",
       "    }\n",
       "    div.text_cell code {\n",
       "        background: transparent;\n",
       "        color: #000000;\n",
       "        font-weight: 400;\n",
       "        font-size: 12pt;\n",
       "        //font-style: bold;\n",
       "        font-family:  'Source Code Pro', Consolas, monocco, monospace;\n",
       "   }\n",
       "    h1 {\n",
       "        font-family: 'Open sans',verdana,arial,sans-serif;\n",
       "\t}\n",
       "\n",
       "    div.input_area {\n",
       "        background: #F6F6F9;\n",
       "        border: 1px solid #586e75;\n",
       "    }\n",
       "\n",
       "    .text_cell_render h1 {\n",
       "        font-weight: 400;\n",
       "        font-size: 30pt;\n",
       "        line-height: 100%;\n",
       "        color:#c76c0c;\n",
       "        margin-bottom: 0.5em;\n",
       "        margin-top: 1em;\n",
       "        display: block;\n",
       "        white-space: wrap;\n",
       "        text-align: left;\n",
       "    }\n",
       "    h2 {\n",
       "        font-family: 'Open sans',verdana,arial,sans-serif;\n",
       "        text-align: left;\n",
       "    }\n",
       "    .text_cell_render h2 {\n",
       "        font-weight: 500;\n",
       "        font-size: 16pt;\n",
       "        font-style: italic;\n",
       "        line-height: 100%;\n",
       "        color:#c76c0c;\n",
       "        margin-bottom: 0.5em;\n",
       "        margin-top: 1.5em;\n",
       "        display: block;\n",
       "        white-space: wrap;\n",
       "        text-align: left;\n",
       "    }\n",
       "    h3 {\n",
       "        font-family: 'Open sans',verdana,arial,sans-serif;\n",
       "    }\n",
       "    .text_cell_render h3 {\n",
       "        font-weight: 500;\n",
       "        font-size: 14pt;\n",
       "        line-height: 100%;\n",
       "        color:#d77c0c;\n",
       "        margin-bottom: 0.5em;\n",
       "        margin-top: 2em;\n",
       "        display: block;\n",
       "        white-space: wrap;\n",
       "        text-align: left;\n",
       "    }\n",
       "    h4 {\n",
       "        font-family: 'Open sans',verdana,arial,sans-serif;\n",
       "    }\n",
       "    .text_cell_render h4 {\n",
       "        font-weight: 100;\n",
       "        font-size: 14pt;\n",
       "        color:#d77c0c;\n",
       "        margin-bottom: 0.5em;\n",
       "        margin-top: 0.5em;\n",
       "        display: block;\n",
       "        white-space: nowrap;\n",
       "    }\n",
       "    h5 {\n",
       "        font-family: 'Open sans',verdana,arial,sans-serif;\n",
       "    }\n",
       "\n",
       "    .text_cell_render h5 {\n",
       "        font-weight: 200;\n",
       "        font-style: normal;\n",
       "        color: #1d3b84;\n",
       "        font-size: 16pt;\n",
       "        margin-bottom: 0em;\n",
       "        margin-top: 0.5em;\n",
       "        display: block;\n",
       "        white-space: nowrap;\n",
       "    }\n",
       "    div.output_subarea.output_text.output_pyout {\n",
       "        overflow-x: auto;\n",
       "        overflow-y: scroll;\n",
       "        max-height: 50000px;\n",
       "    }\n",
       "    div.output_subarea.output_stream.output_stdout.output_text {\n",
       "        overflow-x: auto;\n",
       "        overflow-y: scroll;\n",
       "        max-height: 50000px;\n",
       "    }\n",
       "    div.output_wrapper{\n",
       "        margin-top:0.2em;\n",
       "        margin-bottom:0.2em;\n",
       "}\n",
       "\n",
       "    .rendered_html table {\n",
       "        font-size: 100%;\n",
       "    }\n",
       "\n",
       "    code{\n",
       "        font-size: 6pt;\n",
       "\n",
       "    }\n",
       "    .rendered_html code{\n",
       "    background-color: transparent;\n",
       "    }\n",
       "    ul{\n",
       "        margin: 2em;\n",
       "    }\n",
       "    ul li{\n",
       "        padding-left: 0.5em;\n",
       "        margin-bottom: 0.5em;\n",
       "        margin-top: 0.5em;\n",
       "    }\n",
       "    ul li li{\n",
       "        padding-left: 0.2em;\n",
       "        margin-bottom: 0.2em;\n",
       "        margin-top: 0.2em;\n",
       "    }\n",
       "    ol{\n",
       "        margin: 2em;\n",
       "    }\n",
       "    ol li{\n",
       "        padding-left: 0.5em;\n",
       "        margin-bottom: 0.5em;\n",
       "        margin-top: 0.5em;\n",
       "    }\n",
       "    ul li{\n",
       "        padding-left: 0.5em;\n",
       "        margin-bottom: 0.5em;\n",
       "        margin-top: 0.2em;\n",
       "    }\n",
       "    a:link{\n",
       "       color:#447adb;\n",
       "    }\n",
       "    a:visited{\n",
       "       color: #1d3b84;\n",
       "    }\n",
       "    a:hover{\n",
       "       color: #1d3b84;\n",
       "    }\n",
       "    a:focus{\n",
       "       color:#447adb;\n",
       "    }\n",
       "    a:active{\n",
       "       font-weight: bold;\n",
       "       color:#447adb;\n",
       "    }\n",
       "    .rendered_html :link {\n",
       "       text-decoration: underline;\n",
       "    }\n",
       "    .rendered_html :hover {\n",
       "       text-decoration: none;\n",
       "    }\n",
       "    .rendered_html :visited {\n",
       "      text-decoration: none;\n",
       "    }\n",
       "    .rendered_html :focus {\n",
       "      text-decoration: none;\n",
       "    }\n",
       "    .rendered_html :active {\n",
       "      text-decoration: none;\n",
       "    }\n",
       "    .warning{\n",
       "        color: rgb( 240, 20, 20 )\n",
       "    }\n",
       "    hr {\n",
       "      color: #f3f3f3;\n",
       "      background-color: #f3f3f3;\n",
       "      height: 1px;\n",
       "    }\n",
       "    blockquote{\n",
       "      display:block;\n",
       "      background: #fcfcfc;\n",
       "      border-left: 5px solid #c76c0c;\n",
       "      font-family: 'Open sans',verdana,arial,sans-serif;\n",
       "      width:680px;\n",
       "      padding: 10px 10px 10px 10px;\n",
       "      text-align:justify;\n",
       "      text-justify:inter-word;\n",
       "      }\n",
       "      blockquote p {\n",
       "        margin-bottom: 0;\n",
       "        line-height: 125%;\n",
       "        font-size: 100%;\n",
       "      }\n",
       "</style>\n",
       "<script>\n",
       "    MathJax.Hub.Config({\n",
       "                        TeX: {\n",
       "                           extensions: [\"AMSmath.js\"],\n",
       "                           equationNumbers: { autoNumber: \"AMS\", useLabelIds: true}\n",
       "                           },\n",
       "                tex2jax: {\n",
       "                    inlineMath: [ ['$','$'], [\"\\\\(\",\"\\\\)\"] ],\n",
       "                    displayMath: [ ['$$','$$'], [\"\\\\[\",\"\\\\]\"] ]\n",
       "                },\n",
       "                displayAlign: 'center', // Change this to 'center' to center equations.\n",
       "                \"HTML-CSS\": {\n",
       "                    scale:95,\n",
       "                        availableFonts: [],\n",
       "                        preferredFont:null,\n",
       "                        webFont: \"TeX\",\n",
       "                    styles: {'.MathJax_Display': {\"margin\": 4}}\n",
       "                }\n",
       "        });\n",
       "</script>\n"
      ],
      "text/plain": [
       "<IPython.core.display.HTML object>"
      ]
     },
     "execution_count": 1,
     "metadata": {},
     "output_type": "execute_result"
    }
   ],
   "source": [
    "from IPython.core.display import HTML\n",
    "HTML(open('custom.css', 'r').read())"
   ]
  },
  {
   "cell_type": "markdown",
   "metadata": {},
   "source": [
    "# Spicing It Up! (Sorry)"
   ]
  },
  {
   "cell_type": "markdown",
   "metadata": {},
   "source": [
    "[SKiDL](https://xesscorp.github.io/skidl/docs/_site/index.html) is a Python package for describing the interconnection of electronic devices using text (instead of schematics). [PySpice](https://pyspice.fabrice-salvaire.fr/) is an interface for controlling an external SPICE circuit simulator from Python. This document demonstrates how circuits described using SKiDL can be simulated under a variety of conditions using PySpice with the results displayed in an easily-shared [Jupyter](http://jupyter.org/) notebook.\n",
    "\n",
    "![SKiDL + PyCircuit + ngspice + matplotlib data flow.](dataflow.png)"
   ]
  },
  {
   "cell_type": "markdown",
   "metadata": {},
   "source": [
    "## Why?"
   ]
  },
  {
   "cell_type": "markdown",
   "metadata": {},
   "source": [
    "There are existing SPICE simulators that analyze schematics created by CAD packages like KiCad.\n",
    "There are also versions with their own GUI like LTSpice.\n",
    "What advantages does a combination of SKiDL, PySpice and ngspice offer?\n",
    "\n",
    "* The circuit description is completely textual, so it's easy to share with others who may not have a schematic editor or GUI.\n",
    "* It can be archived in a Git repository for the purpose of tracking versions as modifications are made.\n",
    "* The documentation of the circuitry is embedded with the circuitry, so it's more likely to be kept current.\n",
    "* It makes the entire Python ecosystem of tools available for optimizing, analyzing, and visualizing the behavior of a circuit under a variety of conditions."
   ]
  },
  {
   "cell_type": "markdown",
   "metadata": {},
   "source": [
    "## Installation"
   ]
  },
  {
   "cell_type": "markdown",
   "metadata": {},
   "source": [
    "This notebook assumes you're using ngspice version 30.\n",
    "To install ngspice for linux, do:\n",
    "\n",
    "    sudo apt-get update\n",
    "    sudo apt-get install ngspice\n",
    "    \n",
    "For Windows:\n",
    "\n",
    "1. [Download ngspice-30_dll_64.zip](https://sourceforge.net/projects/ngspice/files/ng-spice-rework/30/ngspice-30_dll_64.zip/download)\n",
    "1. Unpack the zip file into `C:\\Program Files`. The top-level folder should be named `Spice64_dll` so PySpice can find it.\n",
    "1. Change subdirectory `dll-vs` to `bin_dll`.\n",
    "1. Make sure to run 64-bit Python. Otherwise, it will be unable to run the 64-bit DLLs.\n",
    "    \n",
    "Next, for either OS, install SKiDL:\n",
    "\n",
    "    pip install skidl\n",
    "    \n",
    "After that, you'll have to manually install PySpice (***it must be version 1.3.2 or higher***):\n",
    "\n",
    "    pip install \"PySpice>=1.3.2\"\n",
    "    \n",
    "Finally, place an `spinit` file in the same folder as the notebook you're trying to run.\n",
    "This contains the ngspice initialization commands as discussed in the [ngspice manual](https://sourceforge.net/projects/ngspice/files/ng-spice-rework/30/ngspice-30-manual.pdf/download).\n",
    "Typically, I just enable the use of Pspice models and set the number of processing threads as follows:\n",
    "\n",
    "    set ngbehavior=ps\n",
    "    set num_thread=4\n",
    "\n"
   ]
  },
  {
   "cell_type": "markdown",
   "metadata": {},
   "source": [
    "## Examples"
   ]
  },
  {
   "cell_type": "markdown",
   "metadata": {},
   "source": [
    "The following examples demonstrate some of the ways of using SKiDL and PySpice to simulate electronics. While shown using the Jupyter notebook, these examples will also work by placing the Python code into a file and executing it with a Python interpreter."
   ]
  },
  {
   "cell_type": "markdown",
   "metadata": {},
   "source": [
    "The following code snippet is needed at the beginning of every example.\n",
    "It loads the `matplotlib` package for generating graphs, and SKiDL + PySpice packages for describing and simulating circuitry."
   ]
  },
  {
   "cell_type": "code",
   "execution_count": 2,
   "metadata": {
    "ExecuteTime": {
     "end_time": "2021-01-23T18:11:15.274588Z",
     "start_time": "2021-01-23T18:11:14.428164Z"
    }
   },
   "outputs": [
    {
     "name": "stderr",
     "output_type": "stream",
     "text": [
      "WARNING: KICAD_SYMBOL_DIR environment variable is missing, so the default KiCad symbol libraries won't be searched.\n"
     ]
    },
    {
     "name": "stdout",
     "output_type": "stream",
     "text": [
      "{'kicad': ['.'], 'skidl': ['.', '/media/devb/Main/xesscorp/KiCad/tools/skidl/skidl/libs'], 'spice': ['.']}\n"
     ]
    }
   ],
   "source": [
    "# Load the package for drawing graphs.\n",
    "import matplotlib.pyplot as plt\n",
    "# Omit the following line if you're not using a Jupyter notebook.\n",
    "%matplotlib inline\n",
    "\n",
    "# Load the SKiDL + PySpice packages and initialize them for doing circuit simulations.\n",
    "from skidl.pyspice import *\n",
    "print(lib_search_paths)"
   ]
  },
  {
   "cell_type": "markdown",
   "metadata": {},
   "source": [
    "### Current Through a Resistor"
   ]
  },
  {
   "cell_type": "markdown",
   "metadata": {},
   "source": [
    "The following example connects a 1 K$\\Omega$ resistor to a voltage source whose value is ramped from 0 to 1 volts.\n",
    "The current through the resistor is plotted versus the applied voltage."
   ]
  },
  {
   "cell_type": "code",
   "execution_count": 3,
   "metadata": {
    "ExecuteTime": {
     "end_time": "2021-01-23T18:11:15.603928Z",
     "start_time": "2021-01-23T18:11:15.276916Z"
    }
   },
   "outputs": [
    {
     "name": "stderr",
     "output_type": "stream",
     "text": [
      "\n",
      "No errors or warnings found during netlist generation.\n",
      "\n"
     ]
    },
    {
     "name": "stdout",
     "output_type": "stream",
     "text": [
      "   V    I (mA)\n",
      "===============\n",
      "  0.00  -0.00\n",
      "  0.10   0.10\n",
      "  0.20   0.20\n",
      "  0.30   0.30\n",
      "  0.40   0.40\n",
      "  0.50   0.50\n",
      "  0.60   0.60\n",
      "  0.70   0.70\n",
      "  0.80   0.80\n",
      "  0.90   0.90\n",
      "  1.00   1.00\n"
     ]
    },
    {
     "data": {
      "image/png": "[encoded data removed]",
      "text/plain": [
       "<Figure size 432x288 with 1 Axes>"
      ]
     },
     "metadata": {
      "needs_background": "light"
     },
     "output_type": "display_data"
    }
   ],
   "source": [
    "reset()  # This will clear any previously defined circuitry.\n",
    "\n",
    "# Create and interconnect the components.\n",
    "vs = V(ref='VS', dc_value = 1 @ u_V)  # Create a voltage source named \"VS\" with an initial value of 1 volt.\n",
    "r1 = R(value = 1 @ u_kOhm)            # Create a 1 Kohm resistor.\n",
    "vs['p'] += r1[1]       # Connect one end of the resistor to the positive terminal of the voltage source.\n",
    "gnd += vs['n'], r1[2]  # Connect the other end of the resistor and the negative terminal of the source to ground.\n",
    "\n",
    "# Simulate the circuit.\n",
    "circ = generate_netlist()              # Translate the SKiDL code into a PyCircuit Circuit object.\n",
    "sim = circ.simulator()                 # Create a simulator for the Circuit object.\n",
    "dc_vals = sim.dc(VS=slice(0, 1, 0.1))  # Run a DC simulation where the voltage ramps from 0 to 1V by 0.1V increments.\n",
    "\n",
    "# Get the voltage applied to the resistor and the current coming out of the voltage source.\n",
    "voltage = dc_vals[node(vs['p'])]       # Get the voltage applied by the positive terminal of the source.\n",
    "current = -dc_vals['VS']               # Get the current coming out of the positive terminal of the voltage source.\n",
    "\n",
    "# Print a table showing the current through the resistor for the various applied voltages.\n",
    "print('{:^7s}{:^7s}'.format('V', ' I (mA)'))\n",
    "print('='*15)\n",
    "for v, i in zip(voltage.as_ndarray(), current.as_ndarray()*1000):\n",
    "    print('{:6.2f} {:6.2f}'.format(v, i))\n",
    "\n",
    "# Create a plot of the current (Y coord) versus the applied voltage (X coord).\n",
    "figure = plt.figure(1)\n",
    "plt.title('Resistor Current vs. Applied Voltage')\n",
    "plt.xlabel('Voltage (V)')\n",
    "plt.ylabel('Current (mA)')\n",
    "plt.plot(voltage, current*1000) # Plot X=voltage and Y=current (in milliamps, so multiply it by 1000).\n",
    "plt.show()"
   ]
  },
  {
   "cell_type": "markdown",
   "metadata": {},
   "source": [
    "### Transient Response of an R-C Filter"
   ]
  },
  {
   "cell_type": "markdown",
   "metadata": {},
   "source": [
    "This example shows the time-varying voltage of a capacitor charged through a resistor by a pulsed voltage source."
   ]
  },
  {
   "cell_type": "code",
   "execution_count": 4,
   "metadata": {
    "ExecuteTime": {
     "end_time": "2021-01-23T18:11:15.857645Z",
     "start_time": "2021-01-23T18:11:15.607185Z"
    }
   },
   "outputs": [
    {
     "name": "stderr",
     "output_type": "stream",
     "text": [
      "\n",
      "No errors or warnings found during netlist generation.\n",
      "\n"
     ]
    },
    {
     "data": {
      "image/png": "[encoded data removed]",
      "text/plain": [
       "<Figure size 432x288 with 1 Axes>"
      ]
     },
     "metadata": {
      "needs_background": "light"
     },
     "output_type": "display_data"
    }
   ],
   "source": [
    "reset()  # Clear out the existing circuitry from the previous example.\n",
    "\n",
    "# Create a pulsed voltage source, a resistor, and a capacitor.\n",
    "vs = PULSEV(initial_value=0, pulsed_value=5@u_V, pulse_width=1@u_ms, period=2@u_ms)  # 1ms ON, 1ms OFF pulses.\n",
    "r = R(value=1@u_kOhm)    # 1 Kohm resistor.\n",
    "c = C(value=1@u_uF)      # 1 uF capacitor.\n",
    "r['+', '-'] += vs['p'], c['+']  # Connect the resistor between the positive source terminal and one of the capacitor terminals.\n",
    "gnd += vs['n'], c['-']   # Connect the negative battery terminal and the other capacitor terminal to ground.\n",
    "\n",
    "# Simulate the circuit.\n",
    "circ = generate_netlist()            # Create the PySpice Circuit object from the SKiDL code.\n",
    "sim = circ.simulator()               # Get a simulator for the Circuit object.\n",
    "waveforms = sim.transient(step_time=0.01@u_ms, end_time=10@u_ms)  # Run a transient simulation from 0 to 10 msec.\n",
    "\n",
    "# Get the simulation data.\n",
    "time = waveforms.time                  # Time values for each point on the waveforms.\n",
    "pulses = waveforms[node(vs['p'])]      # Voltage on the positive terminal of the pulsed voltage source.\n",
    "cap_voltage = waveforms[node(c['+'])]  # Voltage on the capacitor.\n",
    "\n",
    "# Plot the pulsed source and capacitor voltage values versus time.\n",
    "figure = plt.figure(1)\n",
    "plt.title('Capacitor Voltage vs. Source Pulses')\n",
    "plt.xlabel('Time (ms)')\n",
    "plt.ylabel('Voltage (V)')\n",
    "plt.plot(time*1000, pulses)       # Plot pulsed source waveform.\n",
    "plt.plot(time*1000, cap_voltage)  # Plot capacitor charging waveform.\n",
    "plt.legend(('Source Pulses', 'Capacitor Voltage'), loc=(1.1, 0.5))\n",
    "plt.show()"
   ]
  },
  {
   "cell_type": "markdown",
   "metadata": {},
   "source": [
    "### A Voltage-Controlled Voltage Source"
   ]
  },
  {
   "cell_type": "markdown",
   "metadata": {},
   "source": [
    "A voltage source whose output is controlled by another voltage source is demonstrated in this example."
   ]
  },
  {
   "cell_type": "code",
   "execution_count": 5,
   "metadata": {
    "ExecuteTime": {
     "end_time": "2021-01-23T18:11:16.135236Z",
     "start_time": "2021-01-23T18:11:15.859067Z"
    }
   },
   "outputs": [
    {
     "name": "stderr",
     "output_type": "stream",
     "text": [
      "\n",
      "No errors or warnings found during netlist generation.\n",
      "\n"
     ]
    },
    {
     "name": "stdout",
     "output_type": "stream",
     "text": [
      ".title \n",
      "V1 N_1 0 DC 0V AC 1V SIN(0V 1V 100Hz 0s 0Hz)\n",
      "E1 N_2 0 N_1 0 2.5\n",
      "R1 N_2 0 1kOhm\n",
      "R2 N_1 0 1kOhm\n",
      "\n"
     ]
    },
    {
     "data": {
      "image/png": "[encoded data removed]",
      "text/plain": [
       "<Figure size 432x288 with 1 Axes>"
      ]
     },
     "metadata": {
      "needs_background": "light"
     },
     "output_type": "display_data"
    }
   ],
   "source": [
    "reset()  # Clear out the existing circuitry from the previous example.\n",
    "\n",
    "# Connect a sine wave to the control input of a voltage-controlled voltage source.\n",
    "vs = SINEV(amplitude=1@u_V, frequency=100@u_Hz)  # 1V sine wave source at 100 Hz.\n",
    "vs['n'] += gnd  # Connect the negative terminal of the sine wave to ground.\n",
    "vc = VCVS(gain=2.5)  # Voltage-controlled voltage source with a gain of 2.5.\n",
    "vc['ip', 'in'] += vs['p'], gnd  # Connect the sine wave to the input port of the controlled source.\n",
    "vc['op', 'on'] += Net(), gnd    # Connect the output port of the controlled source to a net and ground.\n",
    "rl = R(value=1@u_kOhm)\n",
    "rl[1,2] += vc['op'], gnd\n",
    "r = R(value=1@u_kOhm)\n",
    "r[1,2] += vs['p'], gnd\n",
    "\n",
    "# Simulate the circuit.\n",
    "circ = generate_netlist()  # Create the PySpice Circuit object from the SKiDL code.\n",
    "print(circ)\n",
    "sim = circ.simulator()  # Get a simulator for the Circuit object.\n",
    "waveforms = sim.transient(step_time=0.01@u_ms, end_time=20@u_ms) # Run a transient simulation from 0 to 20 msec.\n",
    "\n",
    "# Get the time-varying waveforms of the sine wave source and the voltage-controlled source.\n",
    "time = waveforms.time\n",
    "vin = waveforms[node(vs['p'])]\n",
    "vout = waveforms[node(vc['op'])]\n",
    "\n",
    "# Plot the input and output waveforms. Note that the output voltage is 2.5x the input voltage.\n",
    "figure = plt.figure(1)\n",
    "plt.title('Input and Output Sine Waves')\n",
    "plt.xlabel('Time (ms)')\n",
    "plt.ylabel('Voltage (V)')\n",
    "plt.plot(time*1000, vin)\n",
    "plt.plot(time*1000, vout)\n",
    "plt.legend(('Input Voltage', 'Output Voltage'), loc=(1.1, 0.5))\n",
    "plt.show()"
   ]
  },
  {
   "cell_type": "markdown",
   "metadata": {},
   "source": [
    "### A Current-Controlled Current Source"
   ]
  },
  {
   "cell_type": "markdown",
   "metadata": {},
   "source": [
    "This example shows a current source controlled by the current driven through a resistor by a voltage source."
   ]
  },
  {
   "cell_type": "code",
   "execution_count": 6,
   "metadata": {
    "ExecuteTime": {
     "end_time": "2021-01-23T18:11:16.433156Z",
     "start_time": "2021-01-23T18:11:16.137095Z"
    },
    "scrolled": true
   },
   "outputs": [
    {
     "name": "stderr",
     "output_type": "stream",
     "text": [
      "\n",
      "No errors or warnings found during netlist generation.\n",
      "\n"
     ]
    },
    {
     "data": {
      "image/png": "[encoded data removed]",
      "text/plain": [
       "<Figure size 432x288 with 1 Axes>"
      ]
     },
     "metadata": {
      "needs_background": "light"
     },
     "output_type": "display_data"
    }
   ],
   "source": [
    "reset()  # Clear out the existing circuitry from the previous example.\n",
    "\n",
    "# Use the current driven through a resistor to control another current source.\n",
    "vs = SINEV(amplitude=1@u_V, frequency=100@u_Hz) # 100 Hz sine wave voltage source.\n",
    "rs = R(value=1@u_kOhm)  # Resistor connected to the voltage source.\n",
    "rs[1,2] += vs['p'], gnd  # Connect resistor from positive terminal of voltage source to ground.\n",
    "vs['n'] += gnd  # Connect the negative terminal of the voltage source to ground.\n",
    "vc = CCCS(control=vs, gain=2.5)  # Current source controlled by the current entering the vs voltage source.\n",
    "rc = R(value=1@u_Ohm)  # Resistor connected to the current source.\n",
    "rc[1,2] += vc['p'], gnd  # Connect resistor from the positive terminal of the current source to ground.\n",
    "vc['n'] += gnd  # Connect the negative terminal of the current source to ground.\n",
    "\n",
    "# Simulate the circuit.\n",
    "circ = generate_netlist()\n",
    "sim = circ.simulator()\n",
    "waveforms = sim.transient(step_time=0.01@u_ms, end_time=20@u_ms)\n",
    "\n",
    "# Get the time-varying waveforms of the currents from the sine wave source and the current-controlled current source.\n",
    "time = waveforms.time\n",
    "i_vs = waveforms[vs.ref]\n",
    "i_vc = waveforms[node(rc[1])] / rc.value  # Current-source current is the voltage across the resistor / resistance.\n",
    "\n",
    "# Plot the waveforms. Note the input and output currents are out of phase since the output current is calculated\n",
    "# based on the current *leaving* the positive terminal of the controlled current source and entering the resistor, \n",
    "# whereas the current in the controlling voltage source is calculated based on what is *entering* the positive terminal.\n",
    "figure = plt.figure(1)\n",
    "plt.title('Control Current vs. Output Current')\n",
    "plt.xlabel('Time (ms)')\n",
    "plt.ylabel('Current (mA)')\n",
    "plt.plot(time*1000, i_vs)\n",
    "plt.plot(time*1000, i_vc)\n",
    "plt.legend(('Control Current', 'Output Current'), loc=(1.1, 0.5))\n",
    "plt.show()"
   ]
  },
  {
   "cell_type": "markdown",
   "metadata": {},
   "source": [
    "### A Transmission Line"
   ]
  },
  {
   "cell_type": "markdown",
   "metadata": {},
   "source": [
    "The voltages at the beginning and end of an ideal transmission line are shown in this example."
   ]
  },
  {
   "cell_type": "code",
   "execution_count": 7,
   "metadata": {
    "ExecuteTime": {
     "end_time": "2021-01-23T18:11:16.693579Z",
     "start_time": "2021-01-23T18:11:16.434513Z"
    }
   },
   "outputs": [
    {
     "name": "stderr",
     "output_type": "stream",
     "text": [
      "\n",
      "No errors or warnings found during netlist generation.\n",
      "\n"
     ]
    },
    {
     "data": {
      "image/png": "[encoded data removed]",
      "text/plain": [
       "<Figure size 432x288 with 1 Axes>"
      ]
     },
     "metadata": {
      "needs_background": "light"
     },
     "output_type": "display_data"
    }
   ],
   "source": [
    "reset()  # Clear out the existing circuitry from the previous example.\n",
    "\n",
    "# Create a 1 GHz sine wave source, drive it through a 70 ohm ideal transmission line, and terminate it with a 140 ohm resistor.\n",
    "vs = SINEV(amplitude=1@u_V, frequency=1@u_GHz)\n",
    "t1 = T(impedance=70@u_Ohm, frequency=1@u_GHz, normalized_length=10.0) # Trans. line is 10 wavelengths long.\n",
    "rload = R(value=140@u_Ohm)\n",
    "vs['p'] += t1['ip']  # Connect source to positive input terminal of trans. line.\n",
    "rload[1] += t1['op'] # Connect resistor to positive output terminal of trans. line.\n",
    "gnd += vs['n'], t1['in','on'], rload[2] # Connect remaining terminals to ground.\n",
    "\n",
    "# Simulate the transmission line.\n",
    "circ = generate_netlist()\n",
    "sim = circ.simulator()\n",
    "waveforms = sim.transient(step_time=0.01@u_ns, end_time=20@u_ns)\n",
    "\n",
    "# Get the waveforms at the beginning and end of the trans. line.\n",
    "time = waveforms.time * 10**9\n",
    "vin = waveforms[node(vs['p'])]      # Input voltage at the beginning of the trans. line.\n",
    "vout = waveforms[node(rload['1'])]  # Output voltage at the terminating resistor of the trans. line.\n",
    "\n",
    "# Plot the input and output waveforms. Note that it takes 10 nsec for the input to reach the end of the\n",
    "# transmission line, and there is a 33% \"bump\" in the output voltage due to the mismatch between the\n",
    "# 140 ohm load resistor and the 70 ohm transmission line impedances.\n",
    "figure = plt.figure(1)\n",
    "plt.title('Output Voltage vs. Input Voltage')\n",
    "plt.xlabel('Time (ns)')\n",
    "plt.ylabel('Voltage (V)')\n",
    "plt.plot(time, vin)\n",
    "plt.plot(time, vout)\n",
    "plt.legend(('Input Voltage', 'Output Voltage'), loc=(1.1, 0.5))\n",
    "plt.show()"
   ]
  },
  {
   "cell_type": "markdown",
   "metadata": {},
   "source": [
    "### A Transformer"
   ]
  },
  {
   "cell_type": "markdown",
   "metadata": {},
   "source": [
    "This example demonstrates a transformer composed of two coupled inductors."
   ]
  },
  {
   "cell_type": "code",
   "execution_count": 8,
   "metadata": {
    "ExecuteTime": {
     "end_time": "2021-01-23T18:11:16.958827Z",
     "start_time": "2021-01-23T18:11:16.695757Z"
    }
   },
   "outputs": [
    {
     "name": "stderr",
     "output_type": "stream",
     "text": [
      "\n",
      "No errors or warnings found during netlist generation.\n",
      "\n"
     ]
    },
    {
     "data": {
      "image/png": "[encoded data removed]",
      "text/plain": [
       "<Figure size 432x288 with 1 Axes>"
      ]
     },
     "metadata": {
      "needs_background": "light"
     },
     "output_type": "display_data"
    }
   ],
   "source": [
    "reset()  # Clear out existing circuitry from previous example.\n",
    "\n",
    "turns_ratio = 10  # Voltage gain from primary to secondary.\n",
    "primary_inductance = 1 @ u_uH\n",
    "secondary_inductance = primary_inductance * turns_ratio**2\n",
    "\n",
    "# Create a transformer from two coupled inductors.\n",
    "vs = SINEV(amplitude=1@u_V, frequency=100@u_Hz)  # AC input voltage.\n",
    "rs = R(value=0 @ u_Ohm)                    # Source resistor.\n",
    "primary   = L(value=primary_inductance)    # Inductor for transformer primary.\n",
    "secondary = L(value=secondary_inductance)  # Inductor for transformer secondary.\n",
    "rload = R(value=100 @ u_Ohm)               # Load resistor.\n",
    "\n",
    "# This is the coupler between the inductors that transfers the\n",
    "# voltage from the primary to the secondary.\n",
    "coupler_prim_sec = K(ind1=primary, ind2=secondary, coupling=0.99)\n",
    "\n",
    "# Connect the voltage source to the primary through the source resistor.\n",
    "gnd & vs['n,p'] & rs & primary[1,2] & gnd\n",
    "\n",
    "# Connect the secondary to the load resistor.\n",
    "gnd & secondary[2,1] & rload & gnd\n",
    "\n",
    "# Simulate the transformer.\n",
    "sim=generate_netlist().simulator()\n",
    "waveforms = sim.transient(step_time=0.1 @ u_ms, end_time=100@u_ms)\n",
    "\n",
    "# Get the waveforms from the primary and secondary.\n",
    "time = waveforms.time * 10**3\n",
    "v_pri = waveforms[node(primary[1])]    # Input voltage at the transformer primary.\n",
    "v_sec = waveforms[node(secondary[1])]  # Output voltage at transformer secondary.\n",
    "\n",
    "# Plot the input and output waveforms.\n",
    "figure = plt.figure(1)\n",
    "plt.title('Primary Voltage vs. Secondary Voltage')\n",
    "plt.xlabel('Time (ms)')\n",
    "plt.ylabel('Voltage (V)')\n",
    "plt.plot(time, v_pri)\n",
    "plt.plot(time, v_sec)\n",
    "plt.legend(('Primary Voltage', 'Secondary Voltage'), loc=(1.1, 0.5))\n",
    "plt.show()"
   ]
  },
  {
   "cell_type": "markdown",
   "metadata": {},
   "source": [
    "### A Transistor Amplifier"
   ]
  },
  {
   "cell_type": "markdown",
   "metadata": {},
   "source": [
    "The use of SPICE models is demonstrated in this example of a common-emitter transistor amplifier.\n",
    "For this example, a subdirectory called `SpiceLib` was created with a single file `2N2222A.lib` that holds\n",
    "the `.MODEL` statement for that particular type of transistor."
   ]
  },
  {
   "cell_type": "code",
   "execution_count": 9,
   "metadata": {
    "ExecuteTime": {
     "end_time": "2021-01-23T18:11:17.237992Z",
     "start_time": "2021-01-23T18:11:16.960705Z"
    }
   },
   "outputs": [
    {
     "name": "stdout",
     "output_type": "stream",
     "text": [
      ".title \n",
      ".include /media/devb/Main/xesscorp/KiCad/tools/skidl/examples/spice-sim-intro/SpiceLib/2N2222A.lib\n",
      "Q1 N_1 N_2 0 2n2222a\n",
      "V1 N_3 0 5V\n",
      "R1 N_4 N_2 5kOhm\n",
      "R2 N_2 N_3 25kOhm\n",
      "R3 N_1 N_3 1kOhm\n",
      "V2 N_4 0 DC 0V AC 1V SIN(0V 0.01V 1kHz 0s 0Hz)\n",
      "\n"
     ]
    },
    {
     "name": "stderr",
     "output_type": "stream",
     "text": [
      "\n",
      "No errors or warnings found during netlist generation.\n",
      "\n"
     ]
    },
    {
     "data": {
      "image/png": "[encoded data removed]",
      "text/plain": [
       "<Figure size 432x288 with 1 Axes>"
      ]
     },
     "metadata": {
      "needs_background": "light"
     },
     "output_type": "display_data"
    }
   ],
   "source": [
    "reset()  # Clear out the existing circuitry from the previous example.\n",
    "\n",
    "# Create a transistor, power supply, bias resistors, collector resistor, and an input sine wave source.\n",
    "q = BJT(model='2n2222a')    # 2N2222A NPN transistor. The model is stored in a directory of SPICE .lib files.\n",
    "vdc = V(dc_value=5@u_V)     # 5V power supply.\n",
    "rs = R(value=5@u_kOhm)      # Source resistor in series with sine wave input voltage.\n",
    "rb = R(value=25@u_kOhm)     # Bias resistor from 5V to base of transistor.\n",
    "rc = R(value=1@u_kOhm)      # Load resistor connected to collector of transistor.\n",
    "vs = SINEV(amplitude=0.01@u_V, frequency=1@u_kHz)  # 1 KHz sine wave input source.\n",
    "q['c', 'b', 'e'] += rc[1], rb[1], gnd  # Connect transistor CBE pins to load & bias resistors and ground.\n",
    "vdc['p'] += rc[2], rb[2]    # Connect other end of load and bias resistors to power supply's positive terminal.\n",
    "vdc['n'] += gnd             # Connect negative terminal of power supply to ground.\n",
    "rs[1,2] += vs['p'], q['b']  # Connect source resistor from input source to base of transistor.\n",
    "vs['n'] += gnd              # Connect negative terminal of input source to ground.\n",
    "\n",
    "# Simulate the transistor amplifier. This requires a SPICE library containing a model of the 2N2222A transistor.\n",
    "circ = generate_netlist()  # Pass the directory to the SPICE model library when creating circuit.\n",
    "print(circ)\n",
    "sim = circ.simulator() \n",
    "waveforms = sim.transient(step_time=0.01@u_ms, end_time=5@u_ms)\n",
    "\n",
    "# Get the input source and amplified output waveforms.\n",
    "time = waveforms.time\n",
    "vin = waveforms[node(vs['p'])]  # Input source voltage.\n",
    "vout = waveforms[node(q['c'])]  # Amplified output voltage at collector of the transistor.\n",
    "\n",
    "# Plot the input and output waveforms.\n",
    "figure = plt.figure(1)\n",
    "plt.title('Output Voltage vs. Input Voltage')\n",
    "plt.xlabel('Time (ms)')\n",
    "plt.ylabel('Voltage (V)')\n",
    "plt.plot(time*1000, vin)\n",
    "plt.plot(time*1000, vout)\n",
    "plt.legend(('Input Voltage', 'Output Voltage'), loc=(1.1, 0.5))\n",
    "plt.show()"
   ]
  },
  {
   "cell_type": "markdown",
   "metadata": {},
   "source": [
    "### XSPICE Parts"
   ]
  },
  {
   "cell_type": "markdown",
   "metadata": {},
   "source": [
    "XSPICE parts can model a variety of functions (ADCs, DACs, etc.) having different I/O requirements, so SKiDL handles them a bit differently:\n",
    "1. An `io` parameter is needed to specify the input and output pins. This parameter is either a comma-separated string or an array of strings listing the pin names in the order required for the particular XSPICE part. XSPICE I/O ports can be *scalar* (indicated by names which are simple strings) or *vectors* (indicated by names ending with \"[]\").\n",
    "2. A `model` parameter is required that specifies the parameters affecting the behavior of the given XSPICE part. This is passed as an `XspiceModel` object."
   ]
  },
  {
   "cell_type": "code",
   "execution_count": 10,
   "metadata": {
    "ExecuteTime": {
     "end_time": "2021-01-23T18:11:17.454894Z",
     "start_time": "2021-01-23T18:11:17.240181Z"
    }
   },
   "outputs": [
    {
     "name": "stdout",
     "output_type": "stream",
     "text": [
      "Pin A2/0/buf_in/UNSPECIFIED True\n",
      "Pin A2/1/buf_out/UNSPECIFIED True\n",
      ".title \n",
      "V1 N_1 0 DC 0V AC 1V SIN(1.65V 1.65V 100000000.0Hz 0s 0Hz)\n",
      "A1 [N_1] [N_2] adc\n",
      "A2 N_2 N_3 buf\n",
      "A3 [N_3] [N_4] dac\n",
      "R1 N_4 0 1kOhm\n",
      ".model adc adc_bridge (fall_delay=1e-09s in_high=0.1V in_low=0.05V rise_delay=1e-09s)\n",
      ".model buf d_buffer (fall_delay=1e-09s input_load=1e-12s rise_delay=1e-09s)\n",
      ".model dac dac_bridge (out_high=3.3V out_low=1.0V)\n",
      "\n",
      "  vin   vout  \n",
      "===============\n",
      "  1.65   3.30\n",
      "  1.65   3.30\n",
      "  1.65   3.30\n",
      "  1.65   3.30\n",
      "  1.66   3.30\n",
      "  1.67   3.30\n",
      "  1.68   3.30\n",
      "  1.72   3.30\n",
      "  1.78   3.30\n",
      "  1.89   3.30\n",
      "  1.99   3.30\n",
      "  2.09   3.30\n",
      "  2.19   3.30\n",
      "  2.28   3.30\n",
      "  2.38   3.30\n",
      "  2.47   3.30\n",
      "  2.56   3.30\n",
      "  2.64   3.30\n",
      "  2.72   3.30\n",
      "  2.80   3.30\n",
      "  2.87   3.30\n",
      "  2.94   3.30\n",
      "  3.00   3.30\n",
      "  3.06   3.30\n",
      "  3.11   3.30\n",
      "  3.16   3.30\n",
      "  3.19   3.30\n",
      "  3.23   3.30\n",
      "  3.26   3.30\n",
      "  3.28   3.30\n",
      "  3.29   3.30\n",
      "  3.30   3.30\n",
      "  3.30   3.30\n",
      "  3.29   3.30\n",
      "  3.28   3.30\n",
      "  3.27   3.30\n",
      "  3.24   3.30\n",
      "  3.21   3.30\n",
      "  3.17   3.30\n",
      "  3.13   3.30\n",
      "  3.08   3.30\n",
      "  3.03   3.30\n",
      "  2.97   3.30\n",
      "  2.90   3.30\n",
      "  2.83   3.30\n",
      "  2.76   3.30\n",
      "  2.68   3.30\n",
      "  2.60   3.30\n",
      "  2.51   3.30\n",
      "  2.42   3.30\n",
      "  2.33   3.30\n",
      "  2.23   3.30\n",
      "  2.13   3.30\n",
      "  2.03   3.30\n",
      "  1.93   3.30\n",
      "  1.83   3.30\n",
      "  1.72   3.30\n",
      "  1.62   3.30\n",
      "  1.52   3.30\n",
      "  1.41   3.30\n",
      "  1.31   3.30\n",
      "  1.21   3.30\n",
      "  1.11   3.30\n",
      "  1.02   3.30\n",
      "  0.92   3.30\n",
      "  0.83   3.30\n",
      "  0.74   3.30\n",
      "  0.66   3.30\n",
      "  0.58   3.30\n",
      "  0.50   3.30\n",
      "  0.43   3.30\n",
      "  0.36   3.30\n",
      "  0.30   3.30\n",
      "  0.24   3.30\n",
      "  0.19   3.30\n",
      "  0.14   3.30\n",
      "  0.11   3.30\n",
      "  0.07   3.30\n",
      "  0.04   3.30\n",
      "  0.02   3.30\n",
      "  0.01   3.30\n",
      "  0.00   3.30\n",
      "  0.00   3.30\n",
      "  0.01   3.30\n",
      "  0.02   3.30\n",
      "  0.03   3.30\n",
      "  0.06   3.30\n",
      "  0.09   3.30\n",
      "  0.13   3.30\n",
      "  0.17   3.30\n",
      "  0.22   3.30\n",
      "  0.27   3.30\n",
      "  0.33   3.30\n",
      "  0.40   3.30\n",
      "  0.47   3.30\n",
      "  0.54   3.30\n",
      "  0.62   3.30\n",
      "  0.70   3.30\n",
      "  0.79   3.30\n",
      "  0.88   3.07\n",
      "  0.97   2.84\n",
      "  1.07   2.61\n",
      "  1.17   2.38\n",
      "  1.27   2.15\n",
      "  1.32   2.04\n",
      "  1.42   1.81\n",
      "  1.52   1.58\n",
      "  1.58   1.46\n",
      "  1.59   1.48\n",
      "  1.61   1.53\n",
      "  1.65   1.62\n",
      "  1.73   1.80\n",
      "  1.78   1.92\n",
      "  1.79   1.94\n",
      "  1.81   1.99\n",
      "  1.85   2.08\n",
      "  1.89   2.15\n",
      "  1.89   2.17\n",
      "  1.91   2.21\n",
      "  1.94   2.28\n",
      "  2.01   2.43\n",
      "  2.11   2.66\n",
      "  2.21   2.89\n",
      "  2.30   3.12\n",
      "  2.38   3.30\n",
      "  2.39   3.30\n",
      "  2.41   3.30\n",
      "  2.44   3.30\n",
      "  2.51   3.30\n",
      "  2.60   3.30\n",
      "  2.68   3.30\n",
      "  2.76   3.30\n",
      "  2.84   3.30\n",
      "  2.91   3.30\n",
      "  2.97   3.30\n",
      "  3.03   3.30\n",
      "  3.08   3.30\n",
      "  3.13   3.30\n",
      "  3.18   3.30\n",
      "  3.21   3.30\n",
      "  3.24   3.30\n",
      "  3.27   3.30\n",
      "  3.28   3.30\n",
      "  3.30   3.30\n",
      "  3.30   3.30\n",
      "  3.30   3.30\n",
      "  3.29   3.30\n",
      "  3.27   3.30\n",
      "  3.25   3.30\n",
      "  3.23   3.30\n",
      "  3.19   3.30\n",
      "  3.15   3.30\n",
      "  3.11   3.30\n",
      "  3.06   3.30\n",
      "  3.00   3.30\n",
      "  2.94   3.30\n",
      "  2.87   3.30\n",
      "  2.80   3.30\n",
      "  2.72   3.30\n",
      "  2.64   3.30\n",
      "  2.55   3.30\n",
      "  2.46   3.30\n",
      "  2.37   3.30\n",
      "  2.28   3.30\n",
      "  2.18   3.30\n",
      "  2.08   3.30\n",
      "  1.98   3.30\n",
      "  1.88   3.30\n",
      "  1.78   3.30\n",
      "  1.67   3.30\n",
      "  1.57   3.30\n",
      "  1.47   3.30\n",
      "  1.36   3.30\n",
      "  1.26   3.30\n",
      "  1.16   3.30\n",
      "  1.06   3.30\n",
      "  0.97   3.30\n",
      "  0.88   3.30\n",
      "  0.79   3.30\n",
      "  0.70   3.30\n",
      "  0.62   3.30\n",
      "  0.54   3.30\n",
      "  0.46   3.30\n",
      "  0.39   3.30\n",
      "  0.33   3.30\n",
      "  0.27   3.30\n",
      "  0.22   3.30\n",
      "  0.17   3.30\n",
      "  0.12   3.30\n",
      "  0.09   3.30\n",
      "  0.06   3.30\n",
      "  0.03   3.30\n",
      "  0.02   3.30\n",
      "  0.00   3.30\n",
      "  0.00   3.30\n",
      "  0.00   3.30\n",
      "  0.01   3.30\n",
      "  0.03   3.30\n",
      "  0.05   3.30\n",
      "  0.07   3.30\n",
      "  0.11   3.30\n",
      "  0.15   3.30\n",
      "  0.19   3.30\n",
      "  0.24   3.30\n",
      "  0.30   3.30\n",
      "  0.36   3.30\n",
      "  0.43   3.30\n",
      "  0.50   3.30\n",
      "  0.58   3.30\n",
      "  0.66   3.30\n",
      "  0.67   3.28\n",
      "  0.69   3.23\n",
      "  0.72   3.14\n",
      "  0.79   2.95\n",
      "  0.84   2.84\n",
      "  0.84   2.82\n",
      "  0.86   2.77\n",
      "  0.90   2.68\n",
      "  0.97   2.49\n",
      "  1.07   2.26\n",
      "  1.12   2.15\n",
      "  1.13   2.13\n",
      "  1.15   2.08\n",
      "  1.19   1.99\n",
      "  1.27   1.80\n",
      "  1.37   1.57\n",
      "  1.47   1.34\n",
      "  1.58   1.11\n",
      "  1.63   1.00\n",
      "  1.64   1.00\n",
      "  1.66   1.05\n",
      "  1.70   1.14\n",
      "  1.73   1.21\n",
      "  1.74   1.23\n",
      "  1.76   1.26\n",
      "  1.79   1.34\n",
      "  1.85   1.48\n",
      "  1.96   1.71\n",
      "  2.06   1.94\n",
      "  2.15   2.15\n",
      "  2.16   2.17\n",
      "  2.18   2.22\n",
      "  2.22   2.31\n",
      "  2.29   2.50\n",
      "  2.39   2.73\n",
      "  2.48   2.96\n",
      "  2.57   3.19\n",
      "  2.61   3.30\n",
      "  2.62   3.30\n",
      "  2.63   3.30\n",
      "  2.67   3.30\n",
      "  2.73   3.30\n",
      "  2.81   3.30\n",
      "  2.88   3.30\n",
      "  2.95   3.30\n",
      "  3.01   3.30\n",
      "  3.06   3.30\n",
      "  3.11   3.30\n",
      "  3.16   3.30\n",
      "  3.20   3.30\n",
      "  3.23   3.30\n",
      "  3.26   3.30\n",
      "  3.28   3.30\n",
      "  3.29   3.30\n",
      "  3.30   3.30\n",
      "  3.30   3.30\n",
      "  3.29   3.30\n",
      "  3.28   3.30\n",
      "  3.26   3.30\n",
      "  3.24   3.30\n",
      "  3.21   3.30\n",
      "  3.17   3.30\n",
      "  3.13   3.30\n",
      "  3.08   3.30\n",
      "  3.02   3.30\n",
      "  2.96   3.30\n",
      "  2.90   3.30\n",
      "  2.83   3.30\n",
      "  2.75   3.30\n",
      "  2.67   3.30\n",
      "  2.59   3.30\n",
      "  2.50   3.30\n",
      "  2.41   3.30\n",
      "  2.32   3.30\n",
      "  2.22   3.30\n",
      "  2.12   3.30\n",
      "  2.02   3.30\n",
      "  1.92   3.30\n",
      "  1.82   3.30\n",
      "  1.71   3.30\n",
      "  1.61   3.30\n",
      "  1.51   3.30\n",
      "  1.40   3.30\n",
      "  1.30   3.30\n",
      "  1.20   3.30\n",
      "  1.10   3.30\n",
      "  1.01   3.30\n",
      "  0.91   3.30\n",
      "  0.82   3.30\n",
      "  0.73   3.30\n",
      "  0.65   3.30\n",
      "  0.57   3.30\n",
      "  0.49   3.30\n",
      "  0.42   3.30\n",
      "  0.35   3.30\n",
      "  0.29   3.30\n",
      "  0.24   3.30\n",
      "  0.19   3.30\n",
      "  0.14   3.30\n",
      "  0.10   3.30\n",
      "  0.07   3.30\n",
      "  0.04   3.30\n",
      "  0.02   3.30\n",
      "  0.01   3.30\n",
      "  0.00   3.30\n",
      "  0.00   3.30\n",
      "  0.01   3.30\n",
      "  0.02   3.30\n",
      "  0.04   3.30\n",
      "  0.06   3.30\n",
      "  0.09   3.30\n",
      "  0.13   3.30\n",
      "  0.17   3.30\n",
      "  0.22   3.30\n",
      "  0.28   3.30\n",
      "  0.34   3.30\n",
      "  0.40   3.30\n",
      "  0.47   3.30\n",
      "  0.55   3.30\n",
      "  0.63   3.30\n",
      "  0.71   3.30\n",
      "  0.72   3.28\n",
      "  0.74   3.23\n",
      "  0.77   3.14\n",
      "  0.80   3.07\n",
      "  0.81   3.05\n",
      "  0.82   3.01\n",
      "  0.85   2.94\n",
      "  0.91   2.79\n",
      "  1.00   2.56\n",
      "  1.10   2.33\n",
      "  1.18   2.15\n",
      "  1.19   2.13\n",
      "  1.21   2.08\n",
      "  1.25   1.99\n",
      "  1.33   1.80\n",
      "  1.43   1.57\n",
      "  1.53   1.34\n",
      "  1.59   1.23\n",
      "  1.60   1.25\n",
      "  1.62   1.30\n",
      "  1.66   1.39\n",
      "  1.69   1.46\n",
      "  1.70   1.48\n",
      "  1.71   1.52\n",
      "  1.75   1.59\n",
      "  1.79   1.69\n",
      "  1.80   1.70\n",
      "  1.81   1.73\n",
      "  1.84   1.79\n",
      "  1.89   1.91\n",
      "  1.99   2.14\n",
      "  2.00   2.15\n",
      "  2.01   2.17\n",
      "  2.02   2.21\n",
      "  2.05   2.28\n",
      "  2.12   2.43\n",
      "  2.22   2.66\n",
      "  2.31   2.89\n",
      "  2.41   3.12\n",
      "  2.48   3.30\n",
      "  2.49   3.30\n",
      "  2.51   3.30\n",
      "  2.54   3.30\n",
      "  2.61   3.30\n",
      "  2.69   3.30\n",
      "  2.77   3.30\n",
      "  2.84   3.30\n",
      "  2.91   3.30\n",
      "  2.98   3.30\n",
      "  3.04   3.30\n",
      "  3.09   3.30\n",
      "  3.14   3.30\n",
      "  3.18   3.30\n",
      "  3.22   3.30\n",
      "  3.25   3.30\n",
      "  3.27   3.30\n",
      "  3.29   3.30\n",
      "  3.30   3.30\n",
      "  3.30   3.30\n",
      "  3.30   3.30\n",
      "  3.29   3.30\n",
      "  3.27   3.30\n",
      "  3.25   3.30\n",
      "  3.22   3.30\n",
      "  3.19   3.30\n",
      "  3.15   3.30\n",
      "  3.10   3.30\n",
      "  3.05   3.30\n",
      "  2.99   3.30\n",
      "  2.93   3.30\n",
      "  2.86   3.30\n",
      "  2.79   3.30\n",
      "  2.71   3.30\n",
      "  2.63   3.30\n",
      "  2.54   3.30\n",
      "  2.46   3.30\n",
      "  2.36   3.30\n",
      "  2.27   3.30\n",
      "  2.17   3.30\n",
      "  2.07   3.30\n",
      "  1.97   3.30\n",
      "  1.87   3.30\n",
      "  1.77   3.30\n",
      "  1.66   3.30\n",
      "  1.56   3.30\n",
      "  1.46   3.30\n",
      "  1.35   3.30\n",
      "  1.25   3.30\n",
      "  1.15   3.30\n",
      "  1.05   3.30\n",
      "  0.96   3.30\n",
      "  0.87   3.30\n",
      "  0.78   3.30\n",
      "  0.69   3.30\n",
      "  0.61   3.30\n",
      "  0.53   3.30\n",
      "  0.46   3.30\n",
      "  0.39   3.30\n",
      "  0.32   3.30\n",
      "  0.26   3.30\n",
      "  0.21   3.30\n",
      "  0.16   3.30\n",
      "  0.12   3.30\n",
      "  0.08   3.30\n",
      "  0.05   3.30\n",
      "  0.03   3.30\n",
      "  0.01   3.30\n",
      "  0.00   3.30\n",
      "  0.00   3.30\n",
      "  0.00   3.30\n",
      "  0.01   3.30\n",
      "  0.03   3.30\n",
      "  0.05   3.30\n",
      "  0.08   3.30\n",
      "  0.11   3.30\n",
      "  0.15   3.30\n",
      "  0.20   3.30\n",
      "  0.25   3.30\n",
      "  0.31   3.30\n",
      "  0.37   3.30\n",
      "  0.44   3.30\n",
      "  0.51   3.30\n",
      "  0.59   3.30\n",
      "  0.67   3.30\n",
      "  0.68   3.28\n",
      "  0.70   3.23\n",
      "  0.73   3.14\n",
      "  0.80   2.96\n",
      "  0.84   2.84\n",
      "  0.85   2.82\n",
      "  0.87   2.77\n",
      "  0.91   2.68\n",
      "  0.98   2.50\n",
      "  1.08   2.26\n",
      "  1.13   2.15\n",
      "  1.14   2.13\n",
      "  1.16   2.08\n",
      "  1.20   1.99\n",
      "  1.28   1.81\n",
      "  1.38   1.58\n",
      "  1.48   1.35\n",
      "  1.59   1.12\n",
      "  1.64   1.00\n",
      "  1.65   1.00\n",
      "  1.67   1.05\n",
      "  1.71   1.14\n",
      "  1.74   1.21\n",
      "  1.75   1.23\n",
      "  1.77   1.26\n",
      "  1.80   1.34\n",
      "  1.87   1.48\n",
      "  1.97   1.71\n",
      "  2.07   1.94\n",
      "  2.16   2.15\n",
      "  2.17   2.17\n",
      "  2.19   2.22\n",
      "  2.23   2.31\n",
      "  2.30   2.49\n",
      "  2.40   2.72\n",
      "  2.49   2.95\n",
      "  2.58   3.18\n",
      "  2.62   3.30\n",
      "  2.63   3.30\n",
      "  2.64   3.30\n",
      "  2.68   3.30\n",
      "  2.74   3.30\n",
      "  2.82   3.30\n",
      "  2.89   3.30\n",
      "  2.95   3.30\n",
      "  3.01   3.30\n",
      "  3.07   3.30\n",
      "  3.12   3.30\n",
      "  3.16   3.30\n",
      "  3.20   3.30\n",
      "  3.23   3.30\n",
      "  3.26   3.30\n",
      "  3.28   3.30\n",
      "  3.29   3.30\n",
      "  3.30   3.30\n",
      "  3.30   3.30\n",
      "  3.29   3.30\n",
      "  3.28   3.30\n",
      "  3.26   3.30\n",
      "  3.24   3.30\n",
      "  3.20   3.30\n",
      "  3.17   3.30\n",
      "  3.12   3.30\n",
      "  3.07   3.30\n",
      "  3.02   3.30\n",
      "  2.96   3.30\n",
      "  2.89   3.30\n",
      "  2.82   3.30\n",
      "  2.74   3.30\n",
      "  2.66   3.30\n",
      "  2.58   3.30\n",
      "  2.49   3.30\n",
      "  2.40   3.30\n",
      "  2.31   3.30\n",
      "  2.21   3.30\n",
      "  2.11   3.30\n",
      "  2.01   3.30\n",
      "  1.91   3.30\n",
      "  1.81   3.30\n",
      "  1.70   3.30\n",
      "  1.60   3.30\n",
      "  1.50   3.30\n",
      "  1.39   3.30\n",
      "  1.29   3.30\n",
      "  1.19   3.30\n",
      "  1.09   3.30\n",
      "  1.00   3.30\n",
      "  0.90   3.30\n",
      "  0.81   3.30\n",
      "  0.72   3.30\n",
      "  0.64   3.30\n",
      "  0.56   3.30\n",
      "  0.48   3.30\n",
      "  0.41   3.30\n",
      "  0.35   3.30\n",
      "  0.29   3.30\n",
      "  0.23   3.30\n",
      "  0.18   3.30\n",
      "  0.14   3.30\n",
      "  0.10   3.30\n",
      "  0.07   3.30\n",
      "  0.04   3.30\n",
      "  0.02   3.30\n",
      "  0.01   3.30\n",
      "  0.00   3.30\n",
      "  0.00   3.30\n",
      "  0.01   3.30\n",
      "  0.02   3.30\n",
      "  0.04   3.30\n",
      "  0.06   3.30\n",
      "  0.10   3.30\n",
      "  0.13   3.30\n",
      "  0.18   3.30\n",
      "  0.23   3.30\n",
      "  0.28   3.30\n",
      "  0.34   3.30\n",
      "  0.41   3.30\n",
      "  0.48   3.30\n",
      "  0.56   3.30\n",
      "  0.64   3.30\n",
      "  0.65   3.28\n",
      "  0.66   3.23\n",
      "  0.70   3.14\n",
      "  0.76   2.96\n",
      "  0.81   2.84\n",
      "  0.82   2.82\n",
      "  0.84   2.77\n",
      "  0.87   2.68\n",
      "  0.95   2.50\n",
      "  1.04   2.26\n",
      "  1.09   2.15\n",
      "  1.10   2.13\n",
      "  1.12   2.08\n",
      "  1.16   1.99\n",
      "  1.24   1.81\n",
      "  1.34   1.58\n",
      "  1.44   1.35\n",
      "  1.54   1.12\n",
      "  1.60   1.00\n",
      "  1.60   1.00\n",
      "  1.61   1.02\n",
      "  1.63   1.07\n",
      "  1.65   1.11\n"
     ]
    },
    {
     "name": "stderr",
     "output_type": "stream",
     "text": [
      "\n",
      "No errors or warnings found during netlist generation.\n",
      "\n"
     ]
    }
   ],
   "source": [
    "reset()  # Clear out the existing circuitry from the previous example.\n",
    "\n",
    "# Sinusoidal voltage source.\n",
    "vin = sinev(offset=1.65 @ u_V, amplitude=1.65 @ u_V, frequency=100e6)\n",
    "\n",
    "# Component declarations showing various XSPICE styles.\n",
    "\n",
    "# Creating an XSPICE part from the pyspice library.\n",
    "adc = Part(\n",
    "    \"pyspice\",\n",
    "    \"A\",\n",
    "    io=\"anlg_in[], dig_out[]\",  # Two vector I/O ports in a string.\n",
    "    model=XspiceModel(\n",
    "        \"adc\",  # The name assigned to this particular model instance.\n",
    "        \"adc_bridge\",  # The name of the XSPICE part associated with this model.\n",
    "        # The rest of the arguments are keyword parameters for the model.\n",
    "        in_low=0.05 @ u_V,\n",
    "        in_high=0.1 @ u_V,\n",
    "        rise_delay=1e-9 @ u_s,\n",
    "        fall_delay=1e-9 @ u_s,\n",
    "    ),\n",
    "    tool=SKIDL\n",
    ")\n",
    "\n",
    "# Creating an XSPICE part using the SPICE abbreviation 'A'.\n",
    "buf = A(\n",
    "    io=\"buf_in, buf_out\",  # Two scalar I/O ports in a string.\n",
    "    model=XspiceModel(\n",
    "        \"buf\",\n",
    "        \"d_buffer\",\n",
    "        rise_delay=1e-9 @ u_s,\n",
    "        fall_delay=1e-9 @ u_s,\n",
    "        input_load=1e-12 @ u_s,\n",
    "    ),\n",
    ")\n",
    "\n",
    "# Creating an XSPICE part using the XSPICE alias.\n",
    "dac = XSPICE(\n",
    "    io=[\"dig_in[]\", \"anlg_out[]\"],  # Two vector ports in an array.\n",
    "    model=XspiceModel(\"dac\", \"dac_bridge\", out_low=1.0 @ u_V, out_high=3.3 @ u_V),\n",
    ")\n",
    "\n",
    "r = R(value=1 @ u_kOhm)  # Load resistor.\n",
    "\n",
    "# Connections: sine wave -> ADC -> buffer -> DAC.\n",
    "vin[\"p, n\"] += adc[\"anlg_in\"][0], gnd  # Attach to first pin in ADC anlg_in vector of pins.\n",
    "adc[\"dig_out\"][0] += buf[\"buf_in\"]  # Attach first pin of ADC dig_out vector to buffer.\n",
    "buf[\"buf_out\"] += dac[\"dig_in\"][0]  # Attach buffer output to first pin of DAC dig_in vector of pins.\n",
    "r[\"p,n\"] += dac[\"anlg_out\"][0], gnd  # Attach first pin of DAC anlg_out vector to load resistor.\n",
    "\n",
    "circ = generate_netlist(libs=\"SpiceLib\")\n",
    "print(circ)\n",
    "sim = circ.simulator()\n",
    "waveforms = sim.transient(step_time=0.1 @ u_ns, end_time=50 @ u_ns)\n",
    "time = waveforms.time\n",
    "vin = waveforms[node(vin[\"p\"])]\n",
    "vout = waveforms[node(r[\"p\"])]\n",
    "\n",
    "print('{:^7s}{:^7s}'.format('vin', 'vout'))\n",
    "print('='*15)\n",
    "for v1, v2 in zip(vin.as_ndarray(), vout.as_ndarray()):\n",
    "    print('{:6.2f} {:6.2f}'.format(v1, v2))"
   ]
  },
  {
   "cell_type": "markdown",
   "metadata": {},
   "source": [
    "### A Hierarchical Circuit"
   ]
  },
  {
   "cell_type": "markdown",
   "metadata": {},
   "source": [
    "SKiDL lets you describe a circuit inside a function, and then call that function to create hierarchical designs that can be analyzed with SPICE. This example defines a simple transistor inverter and then cascades several of them."
   ]
  },
  {
   "cell_type": "code",
   "execution_count": 11,
   "metadata": {
    "ExecuteTime": {
     "end_time": "2021-01-23T18:11:17.826721Z",
     "start_time": "2021-01-23T18:11:17.456811Z"
    }
   },
   "outputs": [
    {
     "name": "stderr",
     "output_type": "stream",
     "text": [
      "\n",
      "No errors or warnings found during netlist generation.\n",
      "\n"
     ]
    },
    {
     "data": {
      "image/png": "[encoded data removed]",
      "text/plain": [
       "<Figure size 432x288 with 1 Axes>"
      ]
     },
     "metadata": {
      "needs_background": "light"
     },
     "output_type": "display_data"
    }
   ],
   "source": [
    "reset()  # You know what this does by now, right?\n",
    "\n",
    "# Create a power supply for all the following circuitry.\n",
    "pwr = V(dc_value=5@u_V)\n",
    "pwr['n'] += gnd\n",
    "vcc = pwr['p']\n",
    "\n",
    "# Create a logic inverter using a transistor and a few resistors.\n",
    "@subcircuit\n",
    "def inverter(inp, outp):\n",
    "    '''When inp is driven high, outp is pulled low by transistor. When inp is driven low, outp is pulled high by resistor.'''\n",
    "    q = BJT(model='2n2222a')  # NPN transistor.\n",
    "    rc = R(value=1@u_kOhm)    # Resistor attached between transistor collector and VCC.\n",
    "    rc[1,2] += vcc, q['c']    \n",
    "    rb = R(value=10@u_kOhm)   # Resistor attached between transistor base and input.\n",
    "    rb[1,2] += inp, q['b']\n",
    "    q['e'] += gnd             # Transistor emitter attached to ground.\n",
    "    outp += q['c']            # Inverted output comes from junction of the transistor collector and collector resistor.\n",
    "    \n",
    "# Create a pulsed voltage source to drive the input of the inverters. I set the rise and fall times to make\n",
    "# it easier to distinguish the input and output waveforms in the plot.\n",
    "vs = PULSEV(initial_value=0, pulsed_value=5@u_V, pulse_width=0.8@u_ms, period=2@u_ms, rise_time=0.2@u_ms, fall_time=0.2@u_ms)  # 1ms ON, 1ms OFF pulses.\n",
    "vs['n'] += gnd\n",
    "\n",
    "# Create three inverters and cascade the output of one to the input of the next.\n",
    "outp = Net() * 3  # Create three nets to attach to the outputs of each inverter.\n",
    "inverter(vs['p'], outp[0])  # First inverter is driven by the pulsed voltage source.\n",
    "inverter(outp[0], outp[1])  # Second inverter is driven by the output of the first.\n",
    "inverter(outp[1], outp[2])  # Third inverter is driven by the output of the second.\n",
    "\n",
    "# Simulate the cascaded inverters.\n",
    "circ = generate_netlist() # Pass-in the library where the transistor model is stored.\n",
    "sim = circ.simulator()\n",
    "waveforms = sim.transient(step_time=0.01@u_ms, end_time=5@u_ms)\n",
    "\n",
    "# Get the waveforms for the input and output.\n",
    "time = waveforms.time\n",
    "inp = waveforms[node(vs['p'])]\n",
    "outp = waveforms[node(outp[2])]  # Get the output waveform for the final inverter in the cascade.\n",
    "\n",
    "# Plot the input and output waveforms. The output will be the inverse of the input since it passed\n",
    "# through three inverters.\n",
    "figure = plt.figure(1)\n",
    "plt.title('Output Voltage vs. Input Voltage')\n",
    "plt.xlabel('Time (ms)')\n",
    "plt.ylabel('Voltage (V)')\n",
    "plt.plot(time*1000, inp)\n",
    "plt.plot(time*1000, outp)\n",
    "plt.legend(('Input Voltage', 'Output Voltage'), loc=(1.1, 0.5))\n",
    "plt.show()"
   ]
  },
  {
   "cell_type": "markdown",
   "metadata": {},
   "source": [
    "### Using SPICE Subcircuits"
   ]
  },
  {
   "cell_type": "markdown",
   "metadata": {},
   "source": [
    "Using `@subcircuit` lets you do hierarchical design directly in SKiDL, but SPICE has long had another option: *subcircuits*. These are encapsulations of device behavior stored in SPICE library files.\n",
    "Many thousands of these have been created over the years, both by SPICE users and semiconductor companies.\n",
    "A simulation of the [NCP1117 voltage regulator](http://www.onsemi.com/pub/Collateral/NCP1117%20PSPICE%20MODELS.ZIP)\n",
    "from [ON Semiconductor](http://www.onsemi.com/) is shown below."
   ]
  },
  {
   "cell_type": "code",
   "execution_count": 12,
   "metadata": {
    "ExecuteTime": {
     "end_time": "2021-01-23T18:11:18.080267Z",
     "start_time": "2021-01-23T18:11:17.828103Z"
    }
   },
   "outputs": [
    {
     "name": "stdout",
     "output_type": "stream",
     "text": [
      "\n",
      " ncp1117_33-x (): 1.0a low-dropout positive fixed and adjustable voltage regulators\n",
      "    Pin X1/3/in/UNSPECIFIED\n",
      "    Pin X1/1/out/UNSPECIFIED\n",
      "    Pin X1/2/gnd/UNSPECIFIED\n"
     ]
    },
    {
     "name": "stderr",
     "output_type": "stream",
     "text": [
      "\n",
      "No errors or warnings found during netlist generation.\n",
      "\n"
     ]
    },
    {
     "data": {
      "image/png": "[encoded data removed]",
      "text/plain": [
       "<Figure size 432x288 with 1 Axes>"
      ]
     },
     "metadata": {
      "needs_background": "light"
     },
     "output_type": "display_data"
    }
   ],
   "source": [
    "reset()\n",
    "\n",
    "lib_search_paths[SPICE].append('SpiceLib')\n",
    "\n",
    "vin = V(ref='VIN', dc_value=8@u_V)      # Input power supply.\n",
    "vreg = Part('NCP1117', 'ncp1117_33-x')  # Voltage regulator from ON Semi part lib.\n",
    "print(vreg)                             # Print vreg pin names.\n",
    "r = R(value=470 @ u_Ohm)                # Load resistor on regulator output.\n",
    "vreg['IN', 'OUT'] += vin['p'], r[1]     # Connect vreg input to vin and output to load resistor.\n",
    "gnd += vin['n'], r[2], vreg['GND']      # Ground connections for everybody.\n",
    "\n",
    "# Simulate the voltage regulator subcircuit.\n",
    "circ = generate_netlist() # Pass-in the library where the voltage regulator subcircuit is stored.\n",
    "sim = circ.simulator()\n",
    "dc_vals = sim.dc(VIN=slice(0,10,0.1)) # Ramp vin from 0->10V and observe regulator output voltage.\n",
    "\n",
    "# Get the input and output voltages.\n",
    "inp = dc_vals[node(vin['p'])]\n",
    "outp = dc_vals[node(vreg['OUT'])]\n",
    "\n",
    "# Plot the regulator output voltage vs. the input supply voltage. Note that the regulator\n",
    "# starts to operate once the input exceeds 4V and the output voltage clamps at 3.3V.\n",
    "figure = plt.figure(1)\n",
    "plt.title('NCP1117-3.3 Regulator Output Voltage vs. Input Voltage')\n",
    "plt.xlabel('Input Voltage (V)')\n",
    "plt.ylabel('Output Voltage (V)')\n",
    "plt.plot(inp, outp)\n",
    "plt.show()\n"
   ]
  },
  {
   "cell_type": "markdown",
   "metadata": {},
   "source": [
    "SKiDL can work with SPICE subcircuits intended for PSPICE and LTSpice. All you need to do is add the top-level directories where the subcircuit libraries are stored and SKiDL will recursively search for the library files. When it reads a subcircuit library file (indicated by a `.lib` file extension), SKiDL will also look for a *symbol file* that provides names for the subcircuit I/O signals. For PSPICE, the symbol file has a `.slb` extension while the `.asy` extension is used for LTSpice.\n",
    "\n",
    "***WARNING***: Even though SKiDL will read the PSPICE and LTSpice library files, that doesn't mean that ngspice can process them. Each SPICE simulator seems to support a different set of optional parameters for the various circuit elements (the nonlinear current source, `G`, for example). You will probably have to modify the library file to satisfy ngspice. PSPICE libraries seem to need the least modification. I wish it was easier, but it's not."
   ]
  },
  {
   "cell_type": "markdown",
   "metadata": {},
   "source": [
    "## The Details"
   ]
  },
  {
   "cell_type": "markdown",
   "metadata": {},
   "source": [
    "The examples section gave you some idea of what the combination of SKiDL, PySpice, ngspice, and matplotlib can do.\n",
    "You should read the stand-alone documentation for each of those packages to get the full extent of their capabilities.\n",
    "This section will address the features and functions that come in to play at their intersection."
   ]
  },
  {
   "cell_type": "markdown",
   "metadata": {},
   "source": [
    "### Units"
   ]
  },
  {
   "cell_type": "markdown",
   "metadata": {},
   "source": [
    "You may have noticed the use of units in the examples above, such as `10 @ u_kOhm` to denote a resistance of 10 K$\\Omega$.\n",
    "This is a feature of the PySpice package. If you want to see all the available units, just do this:"
   ]
  },
  {
   "cell_type": "code",
   "execution_count": 13,
   "metadata": {
    "ExecuteTime": {
     "end_time": "2021-01-23T18:11:18.103122Z",
     "start_time": "2021-01-23T18:11:18.082502Z"
    }
   },
   "outputs": [
    {
     "data": {
      "text/plain": [
       "'Frequency, FrequencyValue, FrequencyValues, Period, PeriodValue, PeriodValues, SiUnits, U_A, U_Bq, U_C, U_Degree, U_F, U_GA, U_GBq, U_GC, U_GDegree, U_GF, U_GGy, U_GH, U_GHz, U_GJ, U_GK, U_GN, U_GOhm, U_GPa, U_GS, U_GSv, U_GV, U_GW, U_GWb, U_Gcd, U_Gkat, U_Glm, U_Glx, U_Gm, U_Gmol, U_Grad, U_Gs, U_Gsr, U_Gy, U_GΩ, U_H, U_Hz, U_J, U_K, U_MA, U_MBq, U_MC, U_MDegree, U_MF, U_MGy, U_MH, U_MHz, U_MJ, U_MK, U_MN, U_MOhm, U_MPa, U_MS, U_MSv, U_MV, U_MW, U_MWb, U_Mcd, U_Mkat, U_Mlm, U_Mlx, U_Mm, U_Mmol, U_Mrad, U_Ms, U_Msr, U_MΩ, U_N, U_Ohm, U_Pa, U_S, U_Sv, U_TA, U_TBq, U_TC, U_TDegree, U_TF, U_TGy, U_TH, U_THz, U_TJ, U_TK, U_TN, U_TOhm, U_TPa, U_TS, U_TSv, U_TV, U_TW, U_TWb, U_Tcd, U_Tkat, U_Tlm, U_Tlx, U_Tm, U_Tmol, U_Trad, U_Ts, U_Tsr, U_TΩ, U_V, U_W, U_Wb, U_cd, U_kA, U_kBq, U_kC, U_kDegree, U_kF, U_kGy, U_kH, U_kHz, U_kJ, U_kK, U_kN, U_kOhm, U_kPa, U_kS, U_kSv, U_kV, U_kW, U_kWb, U_kat, U_kcd, U_kkat, U_klm, U_klx, U_km, U_kmol, U_krad, U_ks, U_ksr, U_kΩ, U_lm, U_lx, U_m, U_mA, U_mBq, U_mC, U_mDegree, U_mF, U_mGy, U_mH, U_mHz, U_mJ, U_mK, U_mN, U_mOhm, U_mPa, U_mS, U_mSv, U_mV, U_mW, U_mWb, U_mcd, U_mkat, U_mlm, U_mlx, U_mm, U_mmol, U_mol, U_mrad, U_ms, U_msr, U_mΩ, U_nA, U_nBq, U_nC, U_nDegree, U_nF, U_nGy, U_nH, U_nHz, U_nJ, U_nK, U_nN, U_nOhm, U_nPa, U_nS, U_nSv, U_nV, U_nW, U_nWb, U_ncd, U_nkat, U_nlm, U_nlx, U_nm, U_nmol, U_nrad, U_ns, U_nsr, U_nΩ, U_pA, U_pBq, U_pC, U_pDegree, U_pF, U_pGy, U_pH, U_pHz, U_pJ, U_pK, U_pN, U_pOhm, U_pPa, U_pS, U_pSv, U_pV, U_pW, U_pWb, U_pcd, U_pkat, U_plm, U_plx, U_pm, U_pmol, U_prad, U_ps, U_psr, U_pΩ, U_rad, U_s, U_sr, U_uA, U_uBq, U_uC, U_uDegree, U_uF, U_uGy, U_uH, U_uHz, U_uJ, U_uK, U_uN, U_uOhm, U_uPa, U_uS, U_uSv, U_uV, U_uW, U_uWb, U_ucd, U_ukat, U_ulm, U_ulx, U_um, U_umol, U_urad, U_us, U_usr, U_Ω, U_μA, U_μBq, U_μC, U_μF, U_μGy, U_μH, U_μHz, U_μJ, U_μK, U_μN, U_μPa, U_μS, U_μSv, U_μV, U_μW, U_μWb, U_μcd, U_μkat, U_μlm, U_μlx, U_μm, U_μmol, U_μrad, U_μs, U_μsr, U_μΩ, Unit, UnitValueShorcut, _SiUnits, _Unit, __builtins__, __cached__, __doc__, __file__, __loader__, __name__, __package__, __path__, __spec__, _build_as_unit_shortcut, _build_prefix_shortcut, _build_unit_prefix_shortcut, _build_unit_shortcut, _build_unit_type_shortcut, _exec_body, _has_matmul, _module_logger, _to_ascii, _version_info, as_A, as_Bq, as_C, as_Degree, as_F, as_Gy, as_H, as_Hz, as_J, as_K, as_N, as_Ohm, as_Pa, as_S, as_Sv, as_V, as_W, as_Wb, as_cd, as_kat, as_lm, as_lx, as_m, as_mol, as_rad, as_s, as_sr, as_Ω, atto, deca, define_shortcut, exa, femto, giga, hecto, kilo, logging, mega, micro, milli, nano, peta, pico, sys, tera, u_A, u_Bq, u_C, u_Degree, u_F, u_GA, u_GBq, u_GC, u_GDegree, u_GF, u_GGy, u_GH, u_GHz, u_GJ, u_GK, u_GN, u_GOhm, u_GPa, u_GS, u_GSv, u_GV, u_GW, u_GWb, u_Gcd, u_Gkat, u_Glm, u_Glx, u_Gm, u_Gmol, u_Grad, u_Gs, u_Gsr, u_Gy, u_GΩ, u_H, u_Hz, u_J, u_K, u_MA, u_MBq, u_MC, u_MDegree, u_MF, u_MGy, u_MH, u_MHz, u_MJ, u_MK, u_MN, u_MOhm, u_MPa, u_MS, u_MSv, u_MV, u_MW, u_MWb, u_Mcd, u_Mkat, u_Mlm, u_Mlx, u_Mm, u_Mmol, u_Mrad, u_Ms, u_Msr, u_MΩ, u_N, u_Ohm, u_Pa, u_S, u_Sv, u_TA, u_TBq, u_TC, u_TDegree, u_TF, u_TGy, u_TH, u_THz, u_TJ, u_TK, u_TN, u_TOhm, u_TPa, u_TS, u_TSv, u_TV, u_TW, u_TWb, u_Tcd, u_Tkat, u_Tlm, u_Tlx, u_Tm, u_Tmol, u_Trad, u_Ts, u_Tsr, u_TΩ, u_V, u_W, u_Wb, u_cd, u_kA, u_kBq, u_kC, u_kDegree, u_kF, u_kGy, u_kH, u_kHz, u_kJ, u_kK, u_kN, u_kOhm, u_kPa, u_kS, u_kSv, u_kV, u_kW, u_kWb, u_kat, u_kcd, u_kkat, u_klm, u_klx, u_km, u_kmol, u_krad, u_ks, u_ksr, u_kΩ, u_lm, u_lx, u_m, u_mA, u_mBq, u_mC, u_mDegree, u_mF, u_mGy, u_mH, u_mHz, u_mJ, u_mK, u_mN, u_mOhm, u_mPa, u_mS, u_mSv, u_mV, u_mW, u_mWb, u_mcd, u_mkat, u_mlm, u_mlx, u_mm, u_mmol, u_mol, u_mrad, u_ms, u_msr, u_mΩ, u_nA, u_nBq, u_nC, u_nDegree, u_nF, u_nGy, u_nH, u_nHz, u_nJ, u_nK, u_nN, u_nOhm, u_nPa, u_nS, u_nSv, u_nV, u_nW, u_nWb, u_ncd, u_nkat, u_nlm, u_nlx, u_nm, u_nmol, u_nrad, u_ns, u_nsr, u_nΩ, u_pA, u_pBq, u_pC, u_pDegree, u_pF, u_pGy, u_pH, u_pHz, u_pJ, u_pK, u_pN, u_pOhm, u_pPa, u_pS, u_pSv, u_pV, u_pW, u_pWb, u_pcd, u_pkat, u_plm, u_plx, u_pm, u_pmol, u_prad, u_ps, u_psr, u_pΩ, u_rad, u_s, u_sr, u_uA, u_uBq, u_uC, u_uDegree, u_uF, u_uGy, u_uH, u_uHz, u_uJ, u_uK, u_uN, u_uOhm, u_uPa, u_uS, u_uSv, u_uV, u_uW, u_uWb, u_ucd, u_ukat, u_ulm, u_ulx, u_um, u_umol, u_urad, u_us, u_usr, u_Ω, u_μA, u_μBq, u_μC, u_μF, u_μGy, u_μH, u_μHz, u_μJ, u_μK, u_μN, u_μPa, u_μS, u_μSv, u_μV, u_μW, u_μWb, u_μcd, u_μkat, u_μlm, u_μlx, u_μm, u_μmol, u_μrad, u_μs, u_μsr, u_μΩ, unit, unit_prefix, unit_value, yocto, yotta, zepto, zetta'"
      ]
     },
     "execution_count": 13,
     "metadata": {},
     "output_type": "execute_result"
    }
   ],
   "source": [
    "import PySpice.Unit\n",
    "', '.join(dir(PySpice.Unit))"
   ]
  },
  {
   "cell_type": "markdown",
   "metadata": {},
   "source": [
    "The following units are the ones you'll probably use most:\n",
    "\n",
    "* Potential: `u_TV` (terravolt), `u_GV` (gigavolt), `u_MV` (megavolt), `u_kV` (kilovolt), `u_V` (volt), `u_mV` (millivolt), `u_uV` (microvolt), `u_nV` (nanovolt), `u_pV` (picovolt).\n",
    "* Current: `u_TA` (terraamp), `u_GA` (gigaamp), `u_MA` (megaamp), `u_kA` (kiloamp), `u_A` (amp), `u_mA` (milliamp), `u_uA` (microamp), `u_nA` (nanoamp), `u_pA` (picoamp).\n",
    "* Resistance: `u_TOhm` (terraohm), `u_GOhm` (gigaohm), `u_MOhm` (megaohm), `u_kOhm` (kiloohm), `u_Ohm` (ohm), `u_mOhm` (milliohm), `u_uOhm` (microohm), `u_nOhm` (nanoohm), `u_pOhm` (picoohm).\n",
    "* Capacitance: `u_TF` (terrafarad) `u_GF` (gigafarad), `u_MF` (megafarad), `u_kF` (kilofarad), `u_F` (farad), `u_mF` (millifarad), `u_uF` (microfarad), `u_nF` (nanofarad), `u_pF` (picofarad).\n",
    "* Inductance: `u_TH` (terrahenry), `u_GH` (gigahenry), `u_MH` (megahenry), `u_kH` (kilohenry), `u_H` (henry), `u_mH` (millihenry), `u_uH` (microhenry), `u_nH` (nanohenry), `u_pH` (picohenry).\n",
    "* Time: `u_Ts` (terrasecond), `u_Gs` (gigasecond), `u_Ms` (megasecond), `u_ks` (kilosecond), `u_s` (second), `u_ms` (millisecond), `u_us` (microsecond), `u_ns` (nanosecond), `u_ps` (picosecond).\n",
    "* Frequency: `u_THz` (terrahertz), `u_GHz` (gigahertz), `u_MHz` (megahertz), `u_kHz` (kilohertz), `u_Hz` (hertz), `u_mHz` (millihertz), `u_uHz` (microhertz), `u_nHz` (nanohertz), `u_pHz` (picohertz)."
   ]
  },
  {
   "cell_type": "markdown",
   "metadata": {},
   "source": [
    "### Available Parts"
   ]
  },
  {
   "cell_type": "markdown",
   "metadata": {},
   "source": [
    "The following is a list of parts (and their aliases) that are available for use in a SPICE simulation.\n",
    "Many parts (like resistors) have only two pins denoted `p` and `n`, while some parts (like transmission lines)\n",
    "have two *ports* composed of pins `ip`, `in` (the input port) and `op`, `on` (the output port).\n",
    "The parts also have *attributes* that modify their characteristics.\n",
    "These attributes can be set when a part is instantiated:\n",
    "\n",
    "    r = R(value=1@u_kOhm)\n",
    "    \n",
    "or they can be set after instantiation like this:\n",
    "\n",
    "    r.value = 1 @ u_kOhm\n",
    "\n",
    "You can go [here](https://bwrcs.eecs.berkeley.edu/Classes/IcBook/SPICE/UserGuide/elements_fr.html)\n",
    "for more information about what device characteristics the attributes control."
   ]
  },
  {
   "cell_type": "code",
   "execution_count": 14,
   "metadata": {
    "ExecuteTime": {
     "end_time": "2021-01-23T18:11:18.131129Z",
     "start_time": "2021-01-23T18:11:18.104899Z"
    }
   },
   "outputs": [
    {
     "name": "stdout",
     "output_type": "stream",
     "text": [
      "A (xspice, XSPICE): XSPICE code module\n",
      "\tPins: \n",
      "\tAttributes: model\n",
      "\n",
      "B (BEHAVSRC, behavioralsource, behavsrc, BEHAVIORALSOURCE): Behavioral (arbitrary) source\n",
      "\tPins: p, n\n",
      "\tAttributes: i, i_expression, v, v_expression, tc1, tc2, temp, temperature, dtemp, device_temperature, p, n\n",
      "\n",
      "C (cap, CAP): Capacitor\n",
      "\tPins: p, n\n",
      "\tAttributes: value, capacitance, model, multiplier, m, scale, temp, temperature, dtemp, device_temperature, ic, initial_condition, p, n\n",
      "\n",
      "BEHAVCAP (behavcap, behavioralcap, BEHAVIORALCAP): Behavioral capacitor\n",
      "\tPins: p, n\n",
      "\tAttributes: expression, tc1, tc2, p, n\n",
      "\n",
      "SEMICAP (semiconductorcap, semicap, SEMICONDUCTORCAP): Semiconductor capacitor\n",
      "\tPins: p, n\n",
      "\tAttributes: value, model, length, l, width, w, multiplier, m, scale, temp, temperature, dtemp, device_temperature, ic, initial_condition, p, n\n",
      "\n",
      "D (DIODE, diode): Diode\n",
      "\tPins: p, n\n",
      "\tAttributes: model, area, multiplier, m, pj, off, ic, initial_condition, temp, temperature, dtemp, device_temperature, p, n\n",
      "\n",
      "E (vcvs, VCVS): Voltage-controlled voltage source\n",
      "\tPins: ip, in, op, on\n",
      "\tAttributes: gain, voltage_gain, op, on, ip, in\n",
      "\n",
      "NONLINV (nonlinearvoltagesource, nonlinv, NONLINEARVOLTAGESOURCE): Nonlinear voltage source\n",
      "\tPins: p, n\n",
      "\tAttributes: expression, table, p, n\n",
      "\n",
      "F (CCCS, cccs): Current-controlled current source\n",
      "\tPins: p, n\n",
      "\tAttributes: control, source, gain, current_gain, multiplier, m, p, n\n",
      "\n",
      "G (): Voltage-controlled current source\n",
      "\tPins: ip, in, op, on\n",
      "\tAttributes: gain, current_gain, multiplier, m, op, on, ip, in\n",
      "\n",
      "NONLINI (nonlinearcurrentsource, NONLINEARCURRENTSOURCE, nonlinvi): Nonlinear current source\n",
      "\tPins: p, n\n",
      "\tAttributes: expression, table, p, n\n",
      "\n",
      "H (ccvs, CCVS): Current-controlled voltage source\n",
      "\tPins: p, n\n",
      "\tAttributes: control, source, transresistance, p, n\n",
      "\n",
      "I (CS, cs, i): Current source\n",
      "\tPins: p, n\n",
      "\tAttributes: value, dc_value, p, n\n",
      "\n",
      "J (jfet, JFET): Junction field-effect transistor\n",
      "\tPins: d, g, s\n",
      "\tAttributes: model, area, multiplier, m, off, ic, initial_condition, temp, temperature, d, g, s\n",
      "\n",
      "K (): Coupled (mutual) inductors\n",
      "\tPins: \n",
      "\tAttributes: ind1, ind2, coupling\n",
      "\n",
      "L (): Inductor\n",
      "\tPins: p, n\n",
      "\tAttributes: value, inductance, model, nt, multiplier, m, scale, temp, temperature, dtemp, device_temperature, ic, initial_condition, p, n\n",
      "\n",
      "BEHAVIND (BEHAVIORALIND, behavioralind, behavind): Behavioral inductor\n",
      "\tPins: p, n\n",
      "\tAttributes: expression, tc1, tc2, p, n\n",
      "\n",
      "M (MOSFET, FET, mosfet, fet): Metal-oxide field-effect transistor\n",
      "\tPins: d, g, s, b\n",
      "\tAttributes: model, multiplier, m, l, length, w, width, drain_area, source_area, drain_perimeter, source_perimeter, drain_number_square, source_number_square, off, ic, initial_condition, temp, temperature, d, g, s, b\n",
      "\n",
      "N (): Numerical device for GSS\n",
      "\tPins: \n",
      "\tAttributes: \n",
      "\n",
      "O (): Lossy transmission line\n",
      "\tPins: ip, in, op, on\n",
      "\tAttributes: model, op, on, ip, in\n",
      "\n",
      "P (): Coupled multiconductor line\n",
      "\tPins: \n",
      "\tAttributes: model, length, l, op, on, ip, in\n",
      "\n",
      "Q (BJT, bjt): Bipolar Junction Transistor\n",
      "\tPins: c, b, e, s\n",
      "\tAttributes: model, area, areab, areac, multiplier, m, off, ic, initial_condition, temp, temperature, dtemp, device_temperature, c, b, e, s\n",
      "\n",
      "R (): Resistor\n",
      "\tPins: p, n\n",
      "\tAttributes: value, resistance, ac, multiplier, m, scale, temp, temperature, dtemp, device_temperature, noisy, p, n\n",
      "\n",
      "BEHAVRES (BEHAVIORALRESISTOR, behavioralresistor, behavres): Behavioral resistor\n",
      "\tPins: p, n\n",
      "\tAttributes: expression, tc1, tc2, p, n\n",
      "\n",
      "SEMIRES (semires, SEMICONDUCTORRESISTOR, semiconductorresistor): Semiconductor resistor\n",
      "\tPins: p, n\n",
      "\tAttributes: value, capacitance, model, ac, length, l, width, w, multiplier, m, scale, temp, temperature, dtemp, device_temperature, noisy, p, n\n",
      "\n",
      "S (VCS, vcs): Voltage-controlled switch\n",
      "\tPins: ip, in, op, on\n",
      "\tAttributes: model, initial_state, op, on, ip, in\n",
      "\n",
      "T (TRANSMISSIONLINE, transmissionline): Transmission line\n",
      "\tPins: ip, in, op, on\n",
      "\tAttributes: impedance, Z0, time_delay, TD, frequency, F, normalized_length, NL, op, on, ip, in\n",
      "\n",
      "U (): Uniformly-distributed RC line\n",
      "\tPins: o, i, cn\n",
      "\tAttributes: model, length, l, number_of_lumps, m, o, i, cn\n",
      "\n",
      "V (AMMETER, vs, ammeter, v, VS): Voltage source\n",
      "\tPins: p, n\n",
      "\tAttributes: value, dc_value, p, n\n",
      "\n",
      "W (ccs, CCS): Current-controlled switch\n",
      "\tPins: p, n\n",
      "\tAttributes: control, source, model, initial_state, p, n\n",
      "\n",
      "Y (): Single lossy transmission line\n",
      "\tPins: ip, in, op, on\n",
      "\tAttributes: model, length, l, op, on, ip, in\n",
      "\n",
      "Z (MESFET, mesfet): Metal-semiconductor field-effect transistor\n",
      "\tPins: d, g, s\n",
      "\tAttributes: model, area, multiplier, m, off, ic, initial_condition, d, g, s\n",
      "\n",
      "SINEV (sinusoidalvoltage, SINUSOIDALVOLTAGE, sinev): Sinusoidal voltage source\n",
      "\tPins: p, n\n",
      "\tAttributes: dc_offset, ac_magnitude, ac_phase, offset, amplitude, frequency, delay, damping_factor, p, n\n",
      "\n",
      "SINEI (SINUSOIDALCURRENT, sinei, sinusoidalcurrent): Sinusoidal current source\n",
      "\tPins: p, n\n",
      "\tAttributes: dc_offset, ac_magnitude, ac_phase, offset, amplitude, frequency, delay, damping_factor, p, n\n",
      "\n",
      "PULSEV (pulsevoltage, pulsev, PULSEVOLTAGE): Pulsed voltage source\n",
      "\tPins: p, n\n",
      "\tAttributes: initial_value, pulsed_value, delay_time, rise_time, fall_time, pulse_width, period, p, n\n",
      "\n",
      "PULSEI (pulsecurrent, pulsei, PULSECURRENT): Pulsed current source\n",
      "\tPins: p, n\n",
      "\tAttributes: initial_value, pulsed_value, delay_time, rise_time, fall_time, pulse_width, period, p, n\n",
      "\n",
      "EXPV (expv, exponentialvoltage, EXPONENTIALVOLTAGE): Exponential voltage source\n",
      "\tPins: p, n\n",
      "\tAttributes: initial_value, pulsed_value, rise_delay_time, rise_time_constant, fall_delay_time, fall_time_constant, p, n\n",
      "\n",
      "EXPI (exponentialcurrent, EXPONENTIALCURRENT, expi): Exponential current source\n",
      "\tPins: p, n\n",
      "\tAttributes: initial_value, pulsed_value, rise_delay_time, rise_time_constant, fall_delay_time, fall_time_constant, p, n\n",
      "\n",
      "PWLV (piecewiselinearvoltage, PIECEWISELINEARVOLTAGE, pwlv): Piecewise linear voltage source\n",
      "\tPins: p, n\n",
      "\tAttributes: values, repeate_time, delay_time, p, n\n",
      "\n",
      "PWLI (PIECEWISELINEARCURRENT, pwli, piecewiselinearcurrent): Piecewise linear current source\n",
      "\tPins: p, n\n",
      "\tAttributes: values, repeate_time, delay_time, p, n\n",
      "\n",
      "FMV (singlefrequencyfmvoltage, SINGLEFREQUENCYFMVOLTAGE, SFFMV, sffmv, fmv): Single-frequency FM-modulated voltage source\n",
      "\tPins: p, n\n",
      "\tAttributes: offset, amplitude, carrier_frequency, modulation_index, signal_frequency, p, n\n",
      "\n",
      "FMI (SINGLEFREQUENCYFMCURRENT, fmi, singlefrequencyfmcurrent, sffmi, SFFMI): Single-frequency FM-modulated current source\n",
      "\tPins: p, n\n",
      "\tAttributes: offset, amplitude, carrier_frequency, modulation_index, signal_frequency, p, n\n",
      "\n",
      "AMV (AMPLITUDEMODULATEDVOLTAGE, amv, amplitudemodulatedvoltage): Amplitude-modulated voltage source\n",
      "\tPins: p, n\n",
      "\tAttributes: offset, amplitude, carrier_frequency, modulating_frequency, signal_delay, p, n\n",
      "\n",
      "AMI (AMPLITUDEMODULATEDCURRENT, ami, amplitudemodulatedcurrent): Amplitude-modulated current source\n",
      "\tPins: p, n\n",
      "\tAttributes: offset, amplitude, carrier_frequency, modulating_frequency, signal_delay, p, n\n",
      "\n",
      "RNDV (rndv, RANDOMVOLTAGE, randomvoltage): Random voltage source\n",
      "\tPins: p, n\n",
      "\tAttributes: random_type, duration, time_delay, parameter1, parameter2, p, n\n",
      "\n",
      "RNDI (RANDOMCURRENT, randomcurrent, rndi): Random current source\n",
      "\tPins: p, n\n",
      "\tAttributes: random_type, duration, time_delay, parameter1, parameter2, p, n\n",
      "\n"
     ]
    }
   ],
   "source": [
    "from skidl.libs.pyspice_sklib import pyspice_lib\n",
    "\n",
    "for part in pyspice_lib.parts:\n",
    "    print('{name} ({aliases}): {desc}\\n\\tPins: {pins}\\n\\tAttributes: {attributes}\\n'.format(\n",
    "        name=getattr(part, 'name', ''),\n",
    "        aliases=', '.join(getattr(part, 'aliases','')), \n",
    "        desc=getattr(part, 'description'),\n",
    "        pins=', '.join([p.name for p in part.pins]),\n",
    "        attributes=', '.join([a for a in list(part.pyspice.get('pos',[])) + list(part.pyspice.get('kw',[]))]),\n",
    "    ))"
   ]
  },
  {
   "cell_type": "markdown",
   "metadata": {},
   "source": [
    "### Startup"
   ]
  },
  {
   "cell_type": "markdown",
   "metadata": {},
   "source": [
    "When you import the PySpice functions into SKiDL:\n",
    "\n",
    "    from skidl.pyspice import *\n",
    "    \n",
    "several things occur:\n",
    "\n",
    "* The parts and utilities defined in `skidl.libs.pyspice.py` are imported.\n",
    "* The default CAD tool is set to `SKIDL`.\n",
    "* A ground net named `gnd` or `GND` is created.\n",
    "\n",
    "In addition, when the parts are imported, their names and aliases are instantiated in the namespace of the\n",
    "calling module to make it easier to create parts. So, rather than using the following standard SKiDL method\n",
    "of creating a part:\n",
    "\n",
    "    c = Part('pyspice', 'C', value=1@u_uF)\n",
    "    \n",
    "you can just do:\n",
    "\n",
    "    c = C(value=1@u_uF)"
   ]
  },
  {
   "cell_type": "markdown",
   "metadata": {},
   "source": [
    "### Miscellaneous"
   ]
  },
  {
   "cell_type": "markdown",
   "metadata": {},
   "source": [
    "You can use the `node()` function if you need the name of a circuit node in order to extract its data\n",
    "from the results returned by a simulation. The argument to `node()` can be either a pin of a part or a net:\n",
    "\n",
    "If you need the actual SPICE deck for a circuit so you can simulate it outside of Python, just print the\n",
    "Circuit object returned by `generate_netlist()` or store it in a file:"
   ]
  },
  {
   "cell_type": "code",
   "execution_count": 15,
   "metadata": {
    "ExecuteTime": {
     "end_time": "2021-01-23T18:11:18.176420Z",
     "start_time": "2021-01-23T18:11:18.134422Z"
    }
   },
   "outputs": [
    {
     "name": "stdout",
     "output_type": "stream",
     "text": [
      ".title \n",
      "VS N_1 0 1V\n",
      "R1 N_1 0 1kOhm\n",
      "\n"
     ]
    },
    {
     "name": "stderr",
     "output_type": "stream",
     "text": [
      "\n",
      "No errors or warnings found during netlist generation.\n",
      "\n"
     ]
    }
   ],
   "source": [
    "reset()\n",
    "\n",
    "# Create and interconnect the components.\n",
    "vs = V(ref='VS', dc_value = 1 @ u_V)  # Create a voltage source named \"VS\" with an initial value of 1 volt.\n",
    "r1 = R(value = 1 @ u_kOhm)            # Create a 1 Kohm resistor.\n",
    "vs['p'] += r1[1]       # Connect one end of the resistor to the positive terminal of the voltage source.\n",
    "gnd += vs['n'], r1[2]  # Connect the other end of the resistor and the negative terminal of the source to ground.\n",
    "\n",
    "# Output the SPICE deck for the circuit.\n",
    "circ = generate_netlist()      # Translate the SKiDL code into a PyCircuit Circuit object.\n",
    "print(circ)                            # Print the SPICE deck for the circuit."
   ]
  },
  {
   "cell_type": "markdown",
   "metadata": {},
   "source": [
    "## Future Work"
   ]
  },
  {
   "cell_type": "markdown",
   "metadata": {},
   "source": [
    "There are two immediate features that need to be added:\n",
    "\n",
    "1. ~~Instantiation of subcircuits defined by the `.SUBCKT` command.~~\n",
    "2. Creation of schematics from the SKiDL code."
   ]
  },
  {
   "cell_type": "markdown",
   "metadata": {},
   "source": [
    "## Acknowledgements"
   ]
  },
  {
   "cell_type": "markdown",
   "metadata": {},
   "source": [
    "Thanks to [Fabrice Salvaire](https://github.com/FabriceSalvaire) for inventing PySpice,\n",
    "and to [Steve Armour](https://github.com/PyLCARS)\n",
    "whose [Jupyter notebook of PySpice examples](https://github.com/PyLCARS/PySpiceExsamples) led the way."
   ]
  }
 ],
 "metadata": {
  "kernelspec": {
   "display_name": "Python 3",
   "language": "python",
   "name": "python3"
  },
  "language_info": {
   "codemirror_mode": {
    "name": "ipython",
    "version": 3
   },
   "file_extension": ".py",
   "mimetype": "text/x-python",
   "name": "python",
   "nbconvert_exporter": "python",
   "pygments_lexer": "ipython3",
   "version": "3.8.6"
  },
  "toc": {
   "base_numbering": 1,
   "nav_menu": {},
   "number_sections": true,
   "sideBar": true,
   "skip_h1_title": false,
   "title_cell": "Table of Contents",
   "title_sidebar": "Contents",
   "toc_cell": true,
   "toc_position": {},
   "toc_section_display": true,
   "toc_window_display": false
  }
 },
 "nbformat": 4,
 "nbformat_minor": 2
}
